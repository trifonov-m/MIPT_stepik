{
 "cells": [
  {
   "cell_type": "markdown",
   "metadata": {
    "id": "1oGBdbb2Gwy9"
   },
   "source": [
    "<p style=\"align: center;\"><img align=center src=\"https://s8.hostingkartinok.com/uploads/images/2018/08/308b49fcfbc619d629fe4604bceb67ac.jpg\" style=\"height:90px;\" width=500/></p>\n",
    "\n",
    "<h3 style=\"text-align: center;\"><b>Физтех-Школа Прикладной математики и информатики (ФПМИ) МФТИ</b></h3>"
   ]
  },
  {
   "cell_type": "markdown",
   "metadata": {
    "id": "eOivSghfGwy-"
   },
   "source": [
    "<h2 style=\"text-align: center;\"><b>Python. Занятие 1: Основы</b></h2>"
   ]
  },
  {
   "cell_type": "markdown",
   "metadata": {
    "id": "_kqD6lQ7GwzA"
   },
   "source": [
    "<img align=left src=\"https://cdn.fedoramagazine.org/wp-content/uploads/2015/11/Python_logo.png\" style=\"height:160px;\" />\n",
    "\n",
    "<img align=center src=\"https://1.bp.blogspot.com/-16utHnlB3Ao/V4tpG8NBX0I/AAAAAAAAA7M/vDQ1p40JpE8M34eCr-UdriSV04Dn8au7QCLcB/s1600/jupyter-logo.png\" style=\"height:90px;\" />"
   ]
  },
  {
   "cell_type": "markdown",
   "metadata": {
    "id": "wBxC0NK1GwzB"
   },
   "source": [
    "---"
   ]
  },
  {
   "cell_type": "markdown",
   "metadata": {
    "id": "iKkG2y23GwzC"
   },
   "source": [
    "\n",
    "Перед тем как начать складывать уровни нейросеточек как блинчики или предсказывать кредитоспособность клиентов, нужно быть хорошо знакомым с нужными библиотеками и языком, на котором они написаны. \n",
    "В нашем курсе мы будем использовать язык **Python**, так как он является оптимальным сочетанием простоты, силы и количества полезных библиотек, написанных для него. "
   ]
  },
  {
   "cell_type": "markdown",
   "metadata": {
    "id": "LYwDm-Y7GwzD"
   },
   "source": [
    "На этом занятии мы научимся писать программы на Python, изучив его основы.  "
   ]
  },
  {
   "cell_type": "markdown",
   "metadata": {
    "id": "qoHHrmtJGwzG"
   },
   "source": [
    "## Основы Python"
   ]
  },
  {
   "cell_type": "markdown",
   "metadata": {
    "id": "EpMCDIheGwzH"
   },
   "source": [
    " В нашем курсе мы будем писать на **Python 3**. Точная версия не принципиальна, но она должна быть >= 3.6  \n",
    "\n",
    "Если Вы пользуетесь каким-либо из дистрибутивов Linux, то Python скорее всего уже установлен.\n",
    "Попробуйте в терминале следующие команды для запуска интерактивного режима работы:\n",
    "\n",
    "`python` или `python3`\n",
    "\n",
    "Выход: `Ctrl+D`\n",
    "\n",
    "Режим работы, в котором выполнится код из файла main.py\n",
    "\n",
    "`python main.py`\n",
    "\n",
    "Помощь: **`help(X)`**, где `X` — то, по чему нужна помощь.  \n",
    "Выход из помощи: `q`."
   ]
  },
  {
   "cell_type": "markdown",
   "metadata": {
    "id": "JlUbz5X4GwzH"
   },
   "source": [
    "<img align=center src=\"http://images7.memedroid.com/images/UPLOADED973/596e4c96650e5.jpeg\" style=\"height:400px;\"/>"
   ]
  },
  {
   "cell_type": "markdown",
   "metadata": {
    "id": "8N0y9NugGwzI"
   },
   "source": [
    "## Общая информация о языке\n",
    "\n",
    "**Название** - **«Питон» или «Пайтон»** (в честь комедийных серий BBC «Летающий цирк Монти-Пайтона»)  \n",
    "**Создатель** - **голландец Гвидо ван Россум (Guido van Rossum)** (в 1991 году)  \n",
    "\n",
    "**Особенности**:  \n",
    "- интерпретируемый\n",
    "- объектно-ориентированный\n",
    "- высокоуровневый язык\n",
    "- встроенные высокоуровневые структуры данных\n",
    "- динамическая типизация\n",
    "- синтаксис прост в изучении\n",
    "- поддержка модулей и пакетов (большинство библиотек\n",
    "бесплатны)\n",
    "- универсальный\n",
    "- интеграция с другими языками (C (Cython), C++, Java (JPython))  \n",
    "\n",
    "**Стиль оформления кода** - **PEP8** (если Вы хороший человек).  \n",
    "\n",
    "*Самое главное из PEP8:*  \n",
    "- отступ – 4 пробела\n",
    "- длина строки < 80 символов\n",
    "- переменные: var_recommended\n",
    "- константы: CONST_RECOMMENDED"
   ]
  },
  {
   "cell_type": "code",
   "execution_count": null,
   "metadata": {
    "colab": {
     "base_uri": "https://localhost:8080/",
     "height": 385
    },
    "executionInfo": {
     "elapsed": 1108,
     "status": "ok",
     "timestamp": 1601133677711,
     "user": {
      "displayName": "elevely",
      "photoUrl": "",
      "userId": "13360139414869837982"
     },
     "user_tz": -180
    },
    "id": "hmG1eJIjGwzJ",
    "outputId": "1107c585-ecd0-4c6f-dfef-4e347db8a960"
   },
   "outputs": [
    {
     "name": "stdout",
     "output_type": "stream",
     "text": [
      "The Zen of Python, by Tim Peters\n",
      "\n",
      "Beautiful is better than ugly.\n",
      "Explicit is better than implicit.\n",
      "Simple is better than complex.\n",
      "Complex is better than complicated.\n",
      "Flat is better than nested.\n",
      "Sparse is better than dense.\n",
      "Readability counts.\n",
      "Special cases aren't special enough to break the rules.\n",
      "Although practicality beats purity.\n",
      "Errors should never pass silently.\n",
      "Unless explicitly silenced.\n",
      "In the face of ambiguity, refuse the temptation to guess.\n",
      "There should be one-- and preferably only one --obvious way to do it.\n",
      "Although that way may not be obvious at first unless you're Dutch.\n",
      "Now is better than never.\n",
      "Although never is often better than *right* now.\n",
      "If the implementation is hard to explain, it's a bad idea.\n",
      "If the implementation is easy to explain, it may be a good idea.\n",
      "Namespaces are one honking great idea -- let's do more of those!\n"
     ]
    }
   ],
   "source": [
    "import this"
   ]
  },
  {
   "cell_type": "markdown",
   "metadata": {
    "id": "YfhDEhg_GwzM"
   },
   "source": [
    "## Типы"
   ]
  },
  {
   "cell_type": "markdown",
   "metadata": {
    "id": "PJA-KLzvGwzN"
   },
   "source": [
    "**Все типы данных** в Python относятся к одной из **2-х категорий**: **изменяемые (mutable)** и **неизменяемые (unmutable)**.   \n",
    "\n",
    "*Неизменяемые объекты*:  \n",
    "* числовые данные (int, float), \n",
    "* bool,\n",
    "* None,\n",
    "* символьные строки (class 'str'), \n",
    "* кортежи (tuple).  \n",
    "\n",
    "*Изменяемые объекты*:  \n",
    "* списки (list), \n",
    "* множества (set), \n",
    "* словари (dict).  \n",
    "\n",
    "Вновь определяемые пользователем типы (классы) могут быть определены как неизменяемые или изменяемые. Изменяемость объектов определённого типа является принципиально важной характеристикой, определяющей, может ли объект такого типа **выступать в качестве ключа для словарей (dict)** или нет."
   ]
  },
  {
   "cell_type": "markdown",
   "metadata": {
    "id": "-tXSqvRRGwzN"
   },
   "source": [
    "### int"
   ]
  },
  {
   "cell_type": "code",
   "execution_count": null,
   "metadata": {
    "colab": {
     "base_uri": "https://localhost:8080/",
     "height": 54
    },
    "executionInfo": {
     "elapsed": 1046,
     "status": "ok",
     "timestamp": 1601133800331,
     "user": {
      "displayName": "elevely",
      "photoUrl": "",
      "userId": "13360139414869837982"
     },
     "user_tz": -180
    },
    "id": "MN-lZNJ4GwzO",
    "outputId": "97b211fa-c594-4e6a-d8a2-58ba1a311de7"
   },
   "outputs": [
    {
     "name": "stdout",
     "output_type": "stream",
     "text": [
      "5 | <class 'int'>\n"
     ]
    }
   ],
   "source": [
    "x = 5\n",
    "\n",
    "print(x, '|', type(x))"
   ]
  },
  {
   "cell_type": "code",
   "execution_count": null,
   "metadata": {
    "colab": {
     "base_uri": "https://localhost:8080/",
     "height": 54
    },
    "executionInfo": {
     "elapsed": 1034,
     "status": "ok",
     "timestamp": 1601133822505,
     "user": {
      "displayName": "elevely",
      "photoUrl": "",
      "userId": "13360139414869837982"
     },
     "user_tz": -180
    },
    "id": "4fRsWXp7GwzS",
    "outputId": "4118ec38-ce42-4526-a891-d5bc5644cd6a"
   },
   "outputs": [
    {
     "name": "stdout",
     "output_type": "stream",
     "text": [
      "9 20 1\n"
     ]
    }
   ],
   "source": [
    "a = 4 + 5\n",
    "b = 4 * 5\n",
    "c = 5 // 4\n",
    "\n",
    "print(a, b, c)"
   ]
  },
  {
   "cell_type": "code",
   "execution_count": null,
   "metadata": {
    "id": "baK-N-1bBYW_"
   },
   "outputs": [],
   "source": []
  },
  {
   "cell_type": "code",
   "execution_count": null,
   "metadata": {
    "colab": {
     "base_uri": "https://localhost:8080/",
     "height": 54
    },
    "executionInfo": {
     "elapsed": 1505,
     "status": "ok",
     "timestamp": 1601133827347,
     "user": {
      "displayName": "elevely",
      "photoUrl": "",
      "userId": "13360139414869837982"
     },
     "user_tz": -180
    },
    "id": "-7yyX2wcGwzV",
    "outputId": "1592949d-2e73-4ef3-c648-e64b8b43d8cd"
   },
   "outputs": [
    {
     "name": "stdout",
     "output_type": "stream",
     "text": [
      "-1\n"
     ]
    }
   ],
   "source": [
    "print( -(5 // 4) )"
   ]
  },
  {
   "cell_type": "code",
   "execution_count": null,
   "metadata": {
    "colab": {
     "base_uri": "https://localhost:8080/",
     "height": 54
    },
    "executionInfo": {
     "elapsed": 731,
     "status": "ok",
     "timestamp": 1601134383960,
     "user": {
      "displayName": "elevely",
      "photoUrl": "",
      "userId": "13360139414869837982"
     },
     "user_tz": -180
    },
    "id": "Bwxm7ONWC14s",
    "outputId": "2fcb6fd0-c282-47d6-e70a-99f74e813845"
   },
   "outputs": [
    {
     "data": {
      "text/plain": [
       "(-1, 2, 2)"
      ]
     },
     "execution_count": 23,
     "metadata": {
      "tags": []
     },
     "output_type": "execute_result"
    }
   ],
   "source": [
    "round(-1.25), round(1.5), round(1.7)"
   ]
  },
  {
   "cell_type": "code",
   "execution_count": null,
   "metadata": {
    "colab": {
     "base_uri": "https://localhost:8080/",
     "height": 54
    },
    "executionInfo": {
     "elapsed": 1348,
     "status": "ok",
     "timestamp": 1601133832958,
     "user": {
      "displayName": "elevely",
      "photoUrl": "",
      "userId": "13360139414869837982"
     },
     "user_tz": -180
    },
    "id": "cKNwlQ9OGwzX",
    "outputId": "5c0c1a25-7b1a-4c4b-c8a4-187f720128b2"
   },
   "outputs": [
    {
     "name": "stdout",
     "output_type": "stream",
     "text": [
      "-2\n"
     ]
    }
   ],
   "source": [
    "print( -5 // 4 )"
   ]
  },
  {
   "cell_type": "code",
   "execution_count": null,
   "metadata": {
    "colab": {
     "base_uri": "https://localhost:8080/",
     "height": 54
    },
    "executionInfo": {
     "elapsed": 1021,
     "status": "ok",
     "timestamp": 1601133885965,
     "user": {
      "displayName": "elevely",
      "photoUrl": "",
      "userId": "13360139414869837982"
     },
     "user_tz": -180
    },
    "id": "FnsWAhPMGwza",
    "outputId": "7a780571-709a-494a-ffd6-b1a5eead608a"
   },
   "outputs": [
    {
     "name": "stdout",
     "output_type": "stream",
     "text": [
      "5000000000000000000000000001 | <class 'int'>\n"
     ]
    }
   ],
   "source": [
    "x = 5 * 1000000000 * 1000000000 * 10**9 + 1\n",
    "print(x, '|', type(x))"
   ]
  },
  {
   "cell_type": "markdown",
   "metadata": {
    "id": "Hf0cK9ejGwzd"
   },
   "source": [
    "### float"
   ]
  },
  {
   "cell_type": "code",
   "execution_count": null,
   "metadata": {
    "colab": {
     "base_uri": "https://localhost:8080/",
     "height": 54
    },
    "executionInfo": {
     "elapsed": 16278,
     "status": "ok",
     "timestamp": 1601134047710,
     "user": {
      "displayName": "elevely",
      "photoUrl": "",
      "userId": "13360139414869837982"
     },
     "user_tz": -180
    },
    "id": "IJcKX6iPGwzd",
    "outputId": "1e0a4ed7-706e-48e1-e812-a746e58df4b6"
   },
   "outputs": [
    {
     "name": "stdout",
     "output_type": "stream",
     "text": [
      "12.345 <class 'float'>\n"
     ]
    }
   ],
   "source": [
    "y = 12.345\n",
    "\n",
    "print(y, type(y))"
   ]
  },
  {
   "cell_type": "code",
   "execution_count": null,
   "metadata": {
    "colab": {
     "base_uri": "https://localhost:8080/",
     "height": 54
    },
    "executionInfo": {
     "elapsed": 1072,
     "status": "ok",
     "timestamp": 1601134049139,
     "user": {
      "displayName": "elevely",
      "photoUrl": "",
      "userId": "13360139414869837982"
     },
     "user_tz": -180
    },
    "id": "qjBbYiC0Gwzg",
    "outputId": "62451a80-12d3-4b3c-f088-4a2f6c144131"
   },
   "outputs": [
    {
     "name": "stdout",
     "output_type": "stream",
     "text": [
      "9.3 21.419999999999998 1.25\n"
     ]
    }
   ],
   "source": [
    "a = 4.2 + 5.1\n",
    "b = 4.2 * 5.1\n",
    "c = 5.0 / 4.0\n",
    "\n",
    "print(a, b, c)"
   ]
  },
  {
   "cell_type": "code",
   "execution_count": null,
   "metadata": {
    "colab": {
     "base_uri": "https://localhost:8080/",
     "height": 54
    },
    "executionInfo": {
     "elapsed": 1540,
     "status": "ok",
     "timestamp": 1601134049610,
     "user": {
      "displayName": "elevely",
      "photoUrl": "",
      "userId": "13360139414869837982"
     },
     "user_tz": -180
    },
    "id": "dWjoVU9OGwzj",
    "outputId": "fda2b270-b17c-47f0-c4b0-0e67cbb3c05f"
   },
   "outputs": [
    {
     "name": "stdout",
     "output_type": "stream",
     "text": [
      "1.25\n"
     ]
    }
   ],
   "source": [
    "a = 5\n",
    "b = 4\n",
    "print(float(a) / float(b))"
   ]
  },
  {
   "cell_type": "code",
   "execution_count": null,
   "metadata": {
    "colab": {
     "base_uri": "https://localhost:8080/",
     "height": 54
    },
    "executionInfo": {
     "elapsed": 681,
     "status": "ok",
     "timestamp": 1601134121591,
     "user": {
      "displayName": "elevely",
      "photoUrl": "",
      "userId": "13360139414869837982"
     },
     "user_tz": -180
    },
    "id": "ro4_LzARGwzo",
    "outputId": "ce62edda-3758-441f-8ad2-6d8a1302df09"
   },
   "outputs": [
    {
     "name": "stdout",
     "output_type": "stream",
     "text": [
      "1.25\n"
     ]
    }
   ],
   "source": [
    "print(a / b)"
   ]
  },
  {
   "cell_type": "markdown",
   "metadata": {
    "id": "YFD8l2XuGwzq"
   },
   "source": [
    "### bool"
   ]
  },
  {
   "cell_type": "code",
   "execution_count": null,
   "metadata": {
    "colab": {
     "base_uri": "https://localhost:8080/",
     "height": 71
    },
    "executionInfo": {
     "elapsed": 702,
     "status": "ok",
     "timestamp": 1601134147159,
     "user": {
      "displayName": "elevely",
      "photoUrl": "",
      "userId": "13360139414869837982"
     },
     "user_tz": -180
    },
    "id": "f-kwu3wkGwzr",
    "outputId": "68193392-f967-48e0-fe70-aabc989a71fd"
   },
   "outputs": [
    {
     "name": "stdout",
     "output_type": "stream",
     "text": [
      "True | <class 'bool'>\n",
      "False | <class 'bool'>\n"
     ]
    }
   ],
   "source": [
    "a = True\n",
    "b = False\n",
    "\n",
    "print(a, '|', type(a))\n",
    "\n",
    "print(b, '|', type(b))"
   ]
  },
  {
   "cell_type": "code",
   "execution_count": null,
   "metadata": {
    "colab": {
     "base_uri": "https://localhost:8080/",
     "height": 87
    },
    "executionInfo": {
     "elapsed": 621,
     "status": "ok",
     "timestamp": 1601134172603,
     "user": {
      "displayName": "elevely",
      "photoUrl": "",
      "userId": "13360139414869837982"
     },
     "user_tz": -180
    },
    "id": "XOtoJKoOGwzu",
    "outputId": "edea3260-13a1-4b05-a928-1c99d8afdc12"
   },
   "outputs": [
    {
     "name": "stdout",
     "output_type": "stream",
     "text": [
      "1\n",
      "2\n",
      "0\n"
     ]
    }
   ],
   "source": [
    "print(a + b)\n",
    "print(a + a)\n",
    "print(b + b)"
   ]
  },
  {
   "cell_type": "code",
   "execution_count": null,
   "metadata": {
    "colab": {
     "base_uri": "https://localhost:8080/",
     "height": 54
    },
    "executionInfo": {
     "elapsed": 884,
     "status": "ok",
     "timestamp": 1601134176898,
     "user": {
      "displayName": "elevely",
      "photoUrl": "",
      "userId": "13360139414869837982"
     },
     "user_tz": -180
    },
    "id": "bxaoc7p_Gwzw",
    "outputId": "a44d47dc-f7c3-4e07-8bec-c7c4b28a3f54"
   },
   "outputs": [
    {
     "name": "stdout",
     "output_type": "stream",
     "text": [
      "1 0\n"
     ]
    }
   ],
   "source": [
    "print(int(a), int(b))"
   ]
  },
  {
   "cell_type": "code",
   "execution_count": null,
   "metadata": {
    "colab": {
     "base_uri": "https://localhost:8080/",
     "height": 137
    },
    "executionInfo": {
     "elapsed": 831,
     "status": "ok",
     "timestamp": 1601134226967,
     "user": {
      "displayName": "elevely",
      "photoUrl": "",
      "userId": "13360139414869837982"
     },
     "user_tz": -180
    },
    "id": "moSf59BmGwzz",
    "outputId": "3c9cdd3a-3965-42ca-d196-814bfc1581f2"
   },
   "outputs": [
    {
     "name": "stdout",
     "output_type": "stream",
     "text": [
      "False \n",
      "\n",
      "True \n",
      "\n",
      "True \n",
      "\n"
     ]
    }
   ],
   "source": [
    "print(True and False, '\\n')\n",
    "\n",
    "print(True or True, '\\n')\n",
    "\n",
    "print(not False, '\\n')"
   ]
  },
  {
   "cell_type": "markdown",
   "metadata": {
    "id": "sGGkrmM0Gwz1"
   },
   "source": [
    "### None"
   ]
  },
  {
   "cell_type": "code",
   "execution_count": null,
   "metadata": {
    "colab": {
     "base_uri": "https://localhost:8080/",
     "height": 54
    },
    "executionInfo": {
     "elapsed": 790,
     "status": "ok",
     "timestamp": 1601134242616,
     "user": {
      "displayName": "elevely",
      "photoUrl": "",
      "userId": "13360139414869837982"
     },
     "user_tz": -180
    },
    "id": "BMIBkyzcGwz6",
    "outputId": "1a765c45-04a3-4621-8e48-6b0f4ac75f95"
   },
   "outputs": [
    {
     "name": "stdout",
     "output_type": "stream",
     "text": [
      "None | <class 'NoneType'>\n"
     ]
    }
   ],
   "source": [
    "z = None\n",
    "print(z, '|', type(z))"
   ]
  },
  {
   "cell_type": "code",
   "execution_count": null,
   "metadata": {
    "colab": {
     "base_uri": "https://localhost:8080/",
     "height": 182
    },
    "executionInfo": {
     "elapsed": 800,
     "status": "error",
     "timestamp": 1601134246383,
     "user": {
      "displayName": "elevely",
      "photoUrl": "",
      "userId": "13360139414869837982"
     },
     "user_tz": -180
    },
    "id": "KaBmiMneGwz8",
    "outputId": "41af83a0-e657-41c8-8529-a488dc50f190"
   },
   "outputs": [
    {
     "ename": "TypeError",
     "evalue": "ignored",
     "output_type": "error",
     "traceback": [
      "\u001b[0;31m---------------------------------------------------------------------------\u001b[0m",
      "\u001b[0;31mTypeError\u001b[0m                                 Traceback (most recent call last)",
      "\u001b[0;32m<ipython-input-21-af352a0618bc>\u001b[0m in \u001b[0;36m<module>\u001b[0;34m()\u001b[0m\n\u001b[0;32m----> 1\u001b[0;31m \u001b[0mint\u001b[0m\u001b[0;34m(\u001b[0m\u001b[0mz\u001b[0m\u001b[0;34m)\u001b[0m\u001b[0;34m\u001b[0m\u001b[0;34m\u001b[0m\u001b[0m\n\u001b[0m",
      "\u001b[0;31mTypeError\u001b[0m: int() argument must be a string, a bytes-like object or a number, not 'NoneType'"
     ]
    }
   ],
   "source": [
    "int(z)"
   ]
  },
  {
   "cell_type": "code",
   "execution_count": null,
   "metadata": {
    "colab": {
     "base_uri": "https://localhost:8080/",
     "height": 58
    },
    "executionInfo": {
     "elapsed": 679,
     "status": "ok",
     "timestamp": 1601134483261,
     "user": {
      "displayName": "elevely",
      "photoUrl": "",
      "userId": "13360139414869837982"
     },
     "user_tz": -180
    },
    "id": "8k4aCla1Gwz_",
    "outputId": "96e980ef-e31f-4e09-f61b-03b4d6c07d32"
   },
   "outputs": [
    {
     "data": {
      "application/vnd.google.colaboratory.intrinsic+json": {
       "type": "string"
      },
      "text/plain": [
       "'I am None!'"
      ]
     },
     "execution_count": 24,
     "metadata": {
      "tags": []
     },
     "output_type": "execute_result"
    }
   ],
   "source": [
    "if z is None:\n",
    "    z = 'I am None!'\n",
    "z"
   ]
  },
  {
   "cell_type": "markdown",
   "metadata": {
    "id": "r_y-TEM3Gw0A"
   },
   "source": [
    "### str"
   ]
  },
  {
   "cell_type": "markdown",
   "metadata": {
    "id": "NYLe3wFlGw0C"
   },
   "source": [
    "В *python3.6 и выше* нет отдельного типа для символа, символы имеют тип **str**."
   ]
  },
  {
   "cell_type": "code",
   "execution_count": null,
   "metadata": {
    "id": "4JoElLU_DyFl"
   },
   "outputs": [],
   "source": []
  },
  {
   "cell_type": "code",
   "execution_count": null,
   "metadata": {
    "colab": {
     "base_uri": "https://localhost:8080/",
     "height": 71
    },
    "executionInfo": {
     "elapsed": 838,
     "status": "ok",
     "timestamp": 1601134526875,
     "user": {
      "displayName": "elevely",
      "photoUrl": "",
      "userId": "13360139414869837982"
     },
     "user_tz": -180
    },
    "id": "W5ZhY9r9Gw0C",
    "outputId": "aa270dea-851f-4fc3-f1ce-13ad44d6af05"
   },
   "outputs": [
    {
     "name": "stdout",
     "output_type": "stream",
     "text": [
      "abc | <class 'str'>\n",
      "xyz | <class 'str'>\n"
     ]
    }
   ],
   "source": [
    "x = \"abc\"\n",
    "y = 'xyz'\n",
    "print(x, '|', type(x))\n",
    "print(y, '|', type(y))"
   ]
  },
  {
   "cell_type": "code",
   "execution_count": null,
   "metadata": {
    "colab": {
     "base_uri": "https://localhost:8080/",
     "height": 54
    },
    "executionInfo": {
     "elapsed": 967,
     "status": "ok",
     "timestamp": 1601134637411,
     "user": {
      "displayName": "elevely",
      "photoUrl": "",
      "userId": "13360139414869837982"
     },
     "user_tz": -180
    },
    "id": "ZVTh7bPjGw0F",
    "outputId": "32d59410-cf92-4057-d534-755ff568d7cc"
   },
   "outputs": [
    {
     "name": "stdout",
     "output_type": "stream",
     "text": [
      "Андрей Михайлович\n"
     ]
    }
   ],
   "source": [
    "a = 'Андрей'\n",
    "b = \"Михайлович\"\n",
    "s = a + \" \" + b\n",
    "print(s)"
   ]
  },
  {
   "cell_type": "code",
   "execution_count": null,
   "metadata": {
    "colab": {
     "base_uri": "https://localhost:8080/",
     "height": 71
    },
    "executionInfo": {
     "elapsed": 985,
     "status": "ok",
     "timestamp": 1601134676735,
     "user": {
      "displayName": "elevely",
      "photoUrl": "",
      "userId": "13360139414869837982"
     },
     "user_tz": -180
    },
    "id": "r3L343d5Gw0H",
    "outputId": "0dce6b3c-cd99-426d-a6f1-d33200839c15"
   },
   "outputs": [
    {
     "name": "stdout",
     "output_type": "stream",
     "text": [
      "АНДРЕЙ\n",
      "андрей\n"
     ]
    }
   ],
   "source": [
    "print(a.upper())\n",
    "print(a.lower())"
   ]
  },
  {
   "cell_type": "code",
   "execution_count": null,
   "metadata": {
    "colab": {
     "base_uri": "https://localhost:8080/",
     "height": 54
    },
    "executionInfo": {
     "elapsed": 1341,
     "status": "ok",
     "timestamp": 1601134699557,
     "user": {
      "displayName": "elevely",
      "photoUrl": "",
      "userId": "13360139414869837982"
     },
     "user_tz": -180
    },
    "id": "YiFvXOaIGw0K",
    "outputId": "06221b21-5dbc-4c71-8ef7-f4f5fc99dbbd"
   },
   "outputs": [
    {
     "name": "stdout",
     "output_type": "stream",
     "text": [
      "6\n"
     ]
    }
   ],
   "source": [
    "print(len(a))"
   ]
  },
  {
   "cell_type": "code",
   "execution_count": null,
   "metadata": {
    "colab": {
     "base_uri": "https://localhost:8080/",
     "height": 71
    },
    "executionInfo": {
     "elapsed": 942,
     "status": "ok",
     "timestamp": 1601134735722,
     "user": {
      "displayName": "elevely",
      "photoUrl": "",
      "userId": "13360139414869837982"
     },
     "user_tz": -180
    },
    "id": "Ii16mZGRGw0N",
    "outputId": "607c4bc7-ef68-4042-aff2-b97d07a9cc2c"
   },
   "outputs": [
    {
     "name": "stdout",
     "output_type": "stream",
     "text": [
      "True\n",
      "False\n"
     ]
    }
   ],
   "source": [
    "print(bool(a))\n",
    "print(bool(\"\" + ''))"
   ]
  },
  {
   "cell_type": "code",
   "execution_count": null,
   "metadata": {
    "colab": {
     "base_uri": "https://localhost:8080/",
     "height": 104
    },
    "executionInfo": {
     "elapsed": 782,
     "status": "ok",
     "timestamp": 1601134752746,
     "user": {
      "displayName": "elevely",
      "photoUrl": "",
      "userId": "13360139414869837982"
     },
     "user_tz": -180
    },
    "id": "5eSIiAI_Gw0Q",
    "outputId": "6d5f30c8-dc64-4489-df60-7d9fefb36048"
   },
   "outputs": [
    {
     "name": "stdout",
     "output_type": "stream",
     "text": [
      "Андрей\n",
      "А\n",
      "н\n",
      "Анд\n"
     ]
    }
   ],
   "source": [
    "print(a)\n",
    "print(a[0])\n",
    "print(a[1])\n",
    "print(a[0:3])"
   ]
  },
  {
   "cell_type": "code",
   "execution_count": null,
   "metadata": {
    "colab": {
     "base_uri": "https://localhost:8080/",
     "height": 54
    },
    "executionInfo": {
     "elapsed": 605,
     "status": "ok",
     "timestamp": 1601134823949,
     "user": {
      "displayName": "elevely",
      "photoUrl": "",
      "userId": "13360139414869837982"
     },
     "user_tz": -180
    },
    "id": "yxSnm0uPGw0S",
    "outputId": "81274e82-369e-4568-e797-e6d3d6fd7a68"
   },
   "outputs": [
    {
     "name": "stdout",
     "output_type": "stream",
     "text": [
      "Ад\n"
     ]
    }
   ],
   "source": [
    "print(a[0:4:2])"
   ]
  },
  {
   "cell_type": "code",
   "execution_count": null,
   "metadata": {
    "colab": {
     "base_uri": "https://localhost:8080/",
     "height": 104
    },
    "executionInfo": {
     "elapsed": 803,
     "status": "ok",
     "timestamp": 1601134955595,
     "user": {
      "displayName": "elevely",
      "photoUrl": "",
      "userId": "13360139414869837982"
     },
     "user_tz": -180
    },
    "id": "kpYdcXQJGw0V",
    "outputId": "324be4e9-1a3d-4363-e4fb-14ba6c7aa9bd"
   },
   "outputs": [
    {
     "name": "stdout",
     "output_type": "stream",
     "text": [
      "Роберт Дауни Младший <class 'str'>\n",
      "b'\\xd0\\xa0\\xd0\\xbe\\xd0\\xb1\\xd0\\xb5\\xd1\\x80\\xd1\\x82 \\xd0\\x94\\xd0\\xb0\\xd1\\x83\\xd0\\xbd\\xd0\\xb8 \\xd0\\x9c\\xd0\\xbb\\xd0\\xb0\\xd0\\xb4\\xd1\\x88\\xd0\\xb8\\xd0\\xb9' <class 'bytes'>\n",
      "Роберт Дауни Младший <class 'str'>\n",
      "Р РѕР±РµСЂС‚ Р”Р°СѓРЅРё РњР»Р°РґС€РёР№ <class 'str'>\n"
     ]
    }
   ],
   "source": [
    "x = 'Роберт Дауни Младший'\n",
    "print(x, type(x))\n",
    "y = x.encode('utf-8')\n",
    "print(y, type(y))\n",
    "z = y.decode('utf-8')\n",
    "print(z, type(z))\n",
    "q = y.decode('cp1251')\n",
    "print(q, type(q))"
   ]
  },
  {
   "cell_type": "markdown",
   "metadata": {
    "id": "knjcsCbVGw0Z"
   },
   "source": [
    "### Метод `split()`:"
   ]
  },
  {
   "cell_type": "code",
   "execution_count": null,
   "metadata": {
    "colab": {
     "base_uri": "https://localhost:8080/",
     "height": 71
    },
    "executionInfo": {
     "elapsed": 626,
     "status": "ok",
     "timestamp": 1601135062189,
     "user": {
      "displayName": "elevely",
      "photoUrl": "",
      "userId": "13360139414869837982"
     },
     "user_tz": -180
    },
    "id": "TuEP17vFGw0Z",
    "outputId": "87b7fa81-f434-4e45-df37-49c37f733d3c"
   },
   "outputs": [
    {
     "name": "stdout",
     "output_type": "stream",
     "text": [
      "['Райгородский', 'Андрей', 'Михайлович']\n",
      "['Райгородский', 'Андрей Михайлович']\n"
     ]
    }
   ],
   "source": [
    "splitted_line = \"Райгородский Андрей Михайлович\".split(' ')\n",
    "print(splitted_line)\n",
    "splitted_line = \"Райгородский Андрей Михайлович\".split(' ', maxsplit=1)\n",
    "print(splitted_line)"
   ]
  },
  {
   "cell_type": "markdown",
   "metadata": {
    "id": "2mnxxvHxGw0c"
   },
   "source": [
    "### tuple"
   ]
  },
  {
   "cell_type": "code",
   "execution_count": null,
   "metadata": {
    "colab": {
     "base_uri": "https://localhost:8080/",
     "height": 54
    },
    "executionInfo": {
     "elapsed": 771,
     "status": "ok",
     "timestamp": 1601135158927,
     "user": {
      "displayName": "elevely",
      "photoUrl": "",
      "userId": "13360139414869837982"
     },
     "user_tz": -180
    },
    "id": "pCgzsWT-Gw0d",
    "outputId": "35710357-ed5f-4b29-9431-1b0184da8d84"
   },
   "outputs": [
    {
     "data": {
      "text/plain": [
       "('a', 5, 12.345)"
      ]
     },
     "execution_count": 34,
     "metadata": {
      "tags": []
     },
     "output_type": "execute_result"
    }
   ],
   "source": [
    "t = ('a', 5, 12.345)\n",
    "t"
   ]
  },
  {
   "cell_type": "code",
   "execution_count": null,
   "metadata": {
    "colab": {
     "base_uri": "https://localhost:8080/",
     "height": 182
    },
    "executionInfo": {
     "elapsed": 700,
     "status": "error",
     "timestamp": 1601135172396,
     "user": {
      "displayName": "elevely",
      "photoUrl": "",
      "userId": "13360139414869837982"
     },
     "user_tz": -180
    },
    "id": "dDtHlkzIGw0f",
    "outputId": "8073bf9f-f854-4e49-a85d-558679e3384e"
   },
   "outputs": [
    {
     "ename": "AttributeError",
     "evalue": "ignored",
     "output_type": "error",
     "traceback": [
      "\u001b[0;31m---------------------------------------------------------------------------\u001b[0m",
      "\u001b[0;31mAttributeError\u001b[0m                            Traceback (most recent call last)",
      "\u001b[0;32m<ipython-input-35-7bc26d8122b5>\u001b[0m in \u001b[0;36m<module>\u001b[0;34m()\u001b[0m\n\u001b[0;32m----> 1\u001b[0;31m \u001b[0mt\u001b[0m\u001b[0;34m.\u001b[0m\u001b[0mappend\u001b[0m\u001b[0;34m(\u001b[0m\u001b[0;36m5\u001b[0m\u001b[0;34m)\u001b[0m\u001b[0;34m\u001b[0m\u001b[0;34m\u001b[0m\u001b[0m\n\u001b[0m",
      "\u001b[0;31mAttributeError\u001b[0m: 'tuple' object has no attribute 'append'"
     ]
    }
   ],
   "source": [
    "t.append(5)"
   ]
  },
  {
   "cell_type": "code",
   "execution_count": null,
   "metadata": {
    "colab": {
     "base_uri": "https://localhost:8080/",
     "height": 583
    },
    "executionInfo": {
     "elapsed": 578,
     "status": "ok",
     "timestamp": 1601135198980,
     "user": {
      "displayName": "elevely",
      "photoUrl": "",
      "userId": "13360139414869837982"
     },
     "user_tz": -180
    },
    "id": "M7cLx8voGw0i",
    "outputId": "22bce261-5892-4813-ace6-e7c2c01ade52"
   },
   "outputs": [
    {
     "data": {
      "text/plain": [
       "['__add__',\n",
       " '__class__',\n",
       " '__contains__',\n",
       " '__delattr__',\n",
       " '__dir__',\n",
       " '__doc__',\n",
       " '__eq__',\n",
       " '__format__',\n",
       " '__ge__',\n",
       " '__getattribute__',\n",
       " '__getitem__',\n",
       " '__getnewargs__',\n",
       " '__gt__',\n",
       " '__hash__',\n",
       " '__init__',\n",
       " '__init_subclass__',\n",
       " '__iter__',\n",
       " '__le__',\n",
       " '__len__',\n",
       " '__lt__',\n",
       " '__mul__',\n",
       " '__ne__',\n",
       " '__new__',\n",
       " '__reduce__',\n",
       " '__reduce_ex__',\n",
       " '__repr__',\n",
       " '__rmul__',\n",
       " '__setattr__',\n",
       " '__sizeof__',\n",
       " '__str__',\n",
       " '__subclasshook__',\n",
       " 'count',\n",
       " 'index']"
      ]
     },
     "execution_count": 36,
     "metadata": {
      "tags": []
     },
     "output_type": "execute_result"
    }
   ],
   "source": [
    "dir(t)"
   ]
  },
  {
   "cell_type": "code",
   "execution_count": null,
   "metadata": {
    "colab": {
     "base_uri": "https://localhost:8080/",
     "height": 54
    },
    "executionInfo": {
     "elapsed": 703,
     "status": "ok",
     "timestamp": 1601135276829,
     "user": {
      "displayName": "elevely",
      "photoUrl": "",
      "userId": "13360139414869837982"
     },
     "user_tz": -180
    },
    "id": "g5H4PakiGw0k",
    "outputId": "5bf9217b-0333-4368-8410-fd61267f1085"
   },
   "outputs": [
    {
     "data": {
      "text/plain": [
       "0"
      ]
     },
     "execution_count": 37,
     "metadata": {
      "tags": []
     },
     "output_type": "execute_result"
    }
   ],
   "source": [
    "t.index('a')"
   ]
  },
  {
   "cell_type": "code",
   "execution_count": null,
   "metadata": {
    "colab": {
     "base_uri": "https://localhost:8080/",
     "height": 54
    },
    "executionInfo": {
     "elapsed": 1191,
     "status": "ok",
     "timestamp": 1601135285578,
     "user": {
      "displayName": "elevely",
      "photoUrl": "",
      "userId": "13360139414869837982"
     },
     "user_tz": -180
    },
    "id": "p1Um9EKeGw0m",
    "outputId": "44c134bf-19df-48b6-8c19-bf80f424326d"
   },
   "outputs": [
    {
     "data": {
      "text/plain": [
       "12.345"
      ]
     },
     "execution_count": 38,
     "metadata": {
      "tags": []
     },
     "output_type": "execute_result"
    }
   ],
   "source": [
    "t[2]"
   ]
  },
  {
   "cell_type": "code",
   "execution_count": null,
   "metadata": {
    "colab": {
     "base_uri": "https://localhost:8080/",
     "height": 54
    },
    "executionInfo": {
     "elapsed": 1045,
     "status": "ok",
     "timestamp": 1601135291771,
     "user": {
      "displayName": "elevely",
      "photoUrl": "",
      "userId": "13360139414869837982"
     },
     "user_tz": -180
    },
    "id": "CIWPvGkiGw0p",
    "outputId": "7b623652-5c9b-431b-da26-c444bf7bfd92"
   },
   "outputs": [
    {
     "data": {
      "text/plain": [
       "('a', 5, 12.345, 1, 2, 3)"
      ]
     },
     "execution_count": 39,
     "metadata": {
      "tags": []
     },
     "output_type": "execute_result"
    }
   ],
   "source": [
    "m = (1, 2, 3)\n",
    "\n",
    "t + m"
   ]
  },
  {
   "cell_type": "code",
   "execution_count": null,
   "metadata": {
    "colab": {
     "base_uri": "https://localhost:8080/",
     "height": 182
    },
    "executionInfo": {
     "elapsed": 783,
     "status": "error",
     "timestamp": 1601135297998,
     "user": {
      "displayName": "elevely",
      "photoUrl": "",
      "userId": "13360139414869837982"
     },
     "user_tz": -180
    },
    "id": "UbRjhPXgGw0q",
    "outputId": "557b4c68-fec2-4d0a-8a86-aa6a4a54dfe2"
   },
   "outputs": [
    {
     "ename": "TypeError",
     "evalue": "ignored",
     "output_type": "error",
     "traceback": [
      "\u001b[0;31m---------------------------------------------------------------------------\u001b[0m",
      "\u001b[0;31mTypeError\u001b[0m                                 Traceback (most recent call last)",
      "\u001b[0;32m<ipython-input-40-f321470bc88f>\u001b[0m in \u001b[0;36m<module>\u001b[0;34m()\u001b[0m\n\u001b[0;32m----> 1\u001b[0;31m \u001b[0mt\u001b[0m \u001b[0;34m-\u001b[0m \u001b[0mm\u001b[0m\u001b[0;34m\u001b[0m\u001b[0;34m\u001b[0m\u001b[0m\n\u001b[0m",
      "\u001b[0;31mTypeError\u001b[0m: unsupported operand type(s) for -: 'tuple' and 'tuple'"
     ]
    }
   ],
   "source": [
    "t - m"
   ]
  },
  {
   "cell_type": "code",
   "execution_count": null,
   "metadata": {
    "colab": {
     "base_uri": "https://localhost:8080/",
     "height": 54
    },
    "executionInfo": {
     "elapsed": 669,
     "status": "ok",
     "timestamp": 1601135316887,
     "user": {
      "displayName": "elevely",
      "photoUrl": "",
      "userId": "13360139414869837982"
     },
     "user_tz": -180
    },
    "id": "HoKY7OS5Gw0t",
    "outputId": "f8c05f09-847f-4066-80ff-96b7d439eb9c"
   },
   "outputs": [
    {
     "data": {
      "text/plain": [
       "3"
      ]
     },
     "execution_count": 41,
     "metadata": {
      "tags": []
     },
     "output_type": "execute_result"
    }
   ],
   "source": [
    "len(m)"
   ]
  },
  {
   "cell_type": "markdown",
   "metadata": {
    "id": "QrloQ6pcGw0w"
   },
   "source": [
    "#### Поменять переменные местами"
   ]
  },
  {
   "cell_type": "code",
   "execution_count": null,
   "metadata": {
    "colab": {
     "base_uri": "https://localhost:8080/",
     "height": 71
    },
    "executionInfo": {
     "elapsed": 1256,
     "status": "ok",
     "timestamp": 1601135387396,
     "user": {
      "displayName": "elevely",
      "photoUrl": "",
      "userId": "13360139414869837982"
     },
     "user_tz": -180
    },
    "id": "BP7tJfrwGw0x",
    "outputId": "66d39896-0af1-4641-95ba-cbff02676f2b"
   },
   "outputs": [
    {
     "name": "stdout",
     "output_type": "stream",
     "text": [
      "a: 100 \n",
      "b: -5\n"
     ]
    }
   ],
   "source": [
    "a = -5\n",
    "b = 100\n",
    "\n",
    "a, b = b, a\n",
    "\n",
    "print('a:', a, '\\nb:', b)"
   ]
  },
  {
   "cell_type": "markdown",
   "metadata": {
    "id": "woS_SaYrGw00"
   },
   "source": [
    "### Немного про встроенные функции"
   ]
  },
  {
   "cell_type": "markdown",
   "metadata": {
    "id": "RgJU9VTkGw00"
   },
   "source": [
    "В Python есть так называем **магические** (или служебные) методы - они начинаются и заканчиваются на двойное нижнее подчёркивание: \\__len\\__, \\__add\\__ ..."
   ]
  },
  {
   "cell_type": "code",
   "execution_count": null,
   "metadata": {
    "colab": {
     "base_uri": "https://localhost:8080/",
     "height": 54
    },
    "executionInfo": {
     "elapsed": 740,
     "status": "ok",
     "timestamp": 1601135427745,
     "user": {
      "displayName": "elevely",
      "photoUrl": "",
      "userId": "13360139414869837982"
     },
     "user_tz": -180
    },
    "id": "68GdSBNSGw01",
    "outputId": "33b8c90f-1af6-4e76-f1bc-0076431c676d"
   },
   "outputs": [
    {
     "data": {
      "text/plain": [
       "<module 'builtins' (built-in)>"
      ]
     },
     "execution_count": 43,
     "metadata": {
      "tags": []
     },
     "output_type": "execute_result"
    }
   ],
   "source": [
    "__builtin__"
   ]
  },
  {
   "cell_type": "markdown",
   "metadata": {
    "id": "NPt6sw70Gw08"
   },
   "source": [
    "Также в Python есть **встроенные** функции и методы, которые являются в некотором смысле универсальными.  \n",
    "Функция `dir()` выводит список всех атрибутов (имён - методы, функции, классы..), которые есть у модуля/класса/объекта:"
   ]
  },
  {
   "cell_type": "markdown",
   "metadata": {
    "id": "RA8Q3ptXGw09"
   },
   "source": [
    "Давайте посмотрим на встроенные и служебные имена Python (не все):"
   ]
  },
  {
   "cell_type": "code",
   "execution_count": null,
   "metadata": {
    "colab": {
     "base_uri": "https://localhost:8080/",
     "height": 1000
    },
    "executionInfo": {
     "elapsed": 679,
     "status": "ok",
     "timestamp": 1601135455265,
     "user": {
      "displayName": "elevely",
      "photoUrl": "",
      "userId": "13360139414869837982"
     },
     "user_tz": -180
    },
    "id": "v3u4Ga2QGw1A",
    "outputId": "af9535e6-b2fa-4762-a27e-7edda5429150"
   },
   "outputs": [
    {
     "data": {
      "text/plain": [
       "['ArithmeticError',\n",
       " 'AssertionError',\n",
       " 'AttributeError',\n",
       " 'BaseException',\n",
       " 'BlockingIOError',\n",
       " 'BrokenPipeError',\n",
       " 'BufferError',\n",
       " 'BytesWarning',\n",
       " 'ChildProcessError',\n",
       " 'ConnectionAbortedError',\n",
       " 'ConnectionError',\n",
       " 'ConnectionRefusedError',\n",
       " 'ConnectionResetError',\n",
       " 'DeprecationWarning',\n",
       " 'EOFError',\n",
       " 'Ellipsis',\n",
       " 'EnvironmentError',\n",
       " 'Exception',\n",
       " 'False',\n",
       " 'FileExistsError',\n",
       " 'FileNotFoundError',\n",
       " 'FloatingPointError',\n",
       " 'FutureWarning',\n",
       " 'GeneratorExit',\n",
       " 'IOError',\n",
       " 'ImportError',\n",
       " 'ImportWarning',\n",
       " 'IndentationError',\n",
       " 'IndexError',\n",
       " 'InterruptedError',\n",
       " 'IsADirectoryError',\n",
       " 'KeyError',\n",
       " 'KeyboardInterrupt',\n",
       " 'LookupError',\n",
       " 'MemoryError',\n",
       " 'ModuleNotFoundError',\n",
       " 'NameError',\n",
       " 'None',\n",
       " 'NotADirectoryError',\n",
       " 'NotImplemented',\n",
       " 'NotImplementedError',\n",
       " 'OSError',\n",
       " 'OverflowError',\n",
       " 'PendingDeprecationWarning',\n",
       " 'PermissionError',\n",
       " 'ProcessLookupError',\n",
       " 'RecursionError',\n",
       " 'ReferenceError',\n",
       " 'ResourceWarning',\n",
       " 'RuntimeError',\n",
       " 'RuntimeWarning',\n",
       " 'StopAsyncIteration',\n",
       " 'StopIteration',\n",
       " 'SyntaxError',\n",
       " 'SyntaxWarning',\n",
       " 'SystemError',\n",
       " 'SystemExit',\n",
       " 'TabError',\n",
       " 'TimeoutError',\n",
       " 'True',\n",
       " 'TypeError',\n",
       " 'UnboundLocalError',\n",
       " 'UnicodeDecodeError',\n",
       " 'UnicodeEncodeError',\n",
       " 'UnicodeError',\n",
       " 'UnicodeTranslateError',\n",
       " 'UnicodeWarning',\n",
       " 'UserWarning',\n",
       " 'ValueError',\n",
       " 'Warning',\n",
       " 'ZeroDivisionError',\n",
       " '__IPYTHON__',\n",
       " '__build_class__',\n",
       " '__debug__',\n",
       " '__doc__',\n",
       " '__import__',\n",
       " '__loader__',\n",
       " '__name__',\n",
       " '__package__',\n",
       " '__spec__',\n",
       " 'abs',\n",
       " 'all',\n",
       " 'any',\n",
       " 'ascii',\n",
       " 'bin',\n",
       " 'bool',\n",
       " 'bytearray',\n",
       " 'bytes',\n",
       " 'callable',\n",
       " 'chr',\n",
       " 'classmethod',\n",
       " 'compile',\n",
       " 'complex',\n",
       " 'copyright',\n",
       " 'credits',\n",
       " 'delattr',\n",
       " 'dict',\n",
       " 'dir',\n",
       " 'display',\n",
       " 'divmod',\n",
       " 'dreload',\n",
       " 'enumerate',\n",
       " 'eval',\n",
       " 'exec',\n",
       " 'filter',\n",
       " 'float',\n",
       " 'format',\n",
       " 'frozenset',\n",
       " 'get_ipython',\n",
       " 'getattr',\n",
       " 'globals',\n",
       " 'hasattr',\n",
       " 'hash',\n",
       " 'help',\n",
       " 'hex',\n",
       " 'id',\n",
       " 'input',\n",
       " 'int',\n",
       " 'isinstance',\n",
       " 'issubclass',\n",
       " 'iter',\n",
       " 'len',\n",
       " 'license',\n",
       " 'list',\n",
       " 'locals',\n",
       " 'map',\n",
       " 'max',\n",
       " 'memoryview',\n",
       " 'min',\n",
       " 'next',\n",
       " 'object',\n",
       " 'oct',\n",
       " 'open',\n",
       " 'ord',\n",
       " 'pow',\n",
       " 'print',\n",
       " 'property',\n",
       " 'range',\n",
       " 'repr',\n",
       " 'reversed',\n",
       " 'round',\n",
       " 'set',\n",
       " 'setattr',\n",
       " 'slice',\n",
       " 'sorted',\n",
       " 'staticmethod',\n",
       " 'str',\n",
       " 'sum',\n",
       " 'super',\n",
       " 'tuple',\n",
       " 'type',\n",
       " 'vars',\n",
       " 'zip']"
      ]
     },
     "execution_count": 44,
     "metadata": {
      "tags": []
     },
     "output_type": "execute_result"
    }
   ],
   "source": [
    "dir(__builtin__)"
   ]
  },
  {
   "cell_type": "markdown",
   "metadata": {
    "id": "3w6SCqq2Gw1D"
   },
   "source": [
    "---\n",
    "### Задание 1\n",
    "\n",
    "Выведите список атрибутов класса Exception."
   ]
  },
  {
   "cell_type": "code",
   "execution_count": null,
   "metadata": {
    "colab": {
     "base_uri": "https://localhost:8080/",
     "height": 550
    },
    "executionInfo": {
     "elapsed": 750,
     "status": "ok",
     "timestamp": 1601135516150,
     "user": {
      "displayName": "elevely",
      "photoUrl": "",
      "userId": "13360139414869837982"
     },
     "user_tz": -180
    },
    "id": "JvOx73jRGw1F",
    "outputId": "aa7bd814-ba75-4d97-ba5d-872b81cffc84"
   },
   "outputs": [
    {
     "data": {
      "text/plain": [
       "['__cause__',\n",
       " '__class__',\n",
       " '__context__',\n",
       " '__delattr__',\n",
       " '__dict__',\n",
       " '__dir__',\n",
       " '__doc__',\n",
       " '__eq__',\n",
       " '__format__',\n",
       " '__ge__',\n",
       " '__getattribute__',\n",
       " '__gt__',\n",
       " '__hash__',\n",
       " '__init__',\n",
       " '__init_subclass__',\n",
       " '__le__',\n",
       " '__lt__',\n",
       " '__ne__',\n",
       " '__new__',\n",
       " '__reduce__',\n",
       " '__reduce_ex__',\n",
       " '__repr__',\n",
       " '__setattr__',\n",
       " '__setstate__',\n",
       " '__sizeof__',\n",
       " '__str__',\n",
       " '__subclasshook__',\n",
       " '__suppress_context__',\n",
       " '__traceback__',\n",
       " 'args',\n",
       " 'with_traceback']"
      ]
     },
     "execution_count": 45,
     "metadata": {
      "tags": []
     },
     "output_type": "execute_result"
    }
   ],
   "source": [
    "dir(Exception)"
   ]
  },
  {
   "cell_type": "markdown",
   "metadata": {
    "id": "hcaipS17Gw1I"
   },
   "source": [
    "---"
   ]
  },
  {
   "cell_type": "markdown",
   "metadata": {
    "id": "aLlY0jGkGw1J"
   },
   "source": [
    "### Полезно"
   ]
  },
  {
   "cell_type": "markdown",
   "metadata": {
    "id": "dSyo8vW9Gw1K"
   },
   "source": [
    "- При вызове метода какого-то класса (или функции какого-то модуля) можно написать его имя и через точку нажать **tab**:  \n",
    "\n",
    "<имя\\_объекта\\_класса(модуля)>**.[tab]**  \n",
    "\n",
    "Тогда всплывёт меню, в котором можно выбрать из всех существующих в этом классе методов (функций модуля)."
   ]
  },
  {
   "cell_type": "code",
   "execution_count": null,
   "metadata": {
    "id": "oocSKWGhGw1K"
   },
   "outputs": [],
   "source": [
    "__builtin__"
   ]
  },
  {
   "cell_type": "markdown",
   "metadata": {
    "id": "sj4LWvuxGw1P"
   },
   "source": [
    "- Получение быстрой справки (help()) для любого объекта Python:"
   ]
  },
  {
   "cell_type": "code",
   "execution_count": null,
   "metadata": {
    "id": "wr0ieLrFGw1Q"
   },
   "outputs": [],
   "source": [
    "?__builtin__"
   ]
  },
  {
   "cell_type": "markdown",
   "metadata": {
    "id": "P7kqThRsGw1S"
   },
   "source": [
    "### Структуры данных и встроенные функции"
   ]
  },
  {
   "cell_type": "markdown",
   "metadata": {
    "id": "e6LOqPpYGw1T"
   },
   "source": [
    "### list"
   ]
  },
  {
   "cell_type": "code",
   "execution_count": null,
   "metadata": {
    "colab": {
     "base_uri": "https://localhost:8080/",
     "height": 54
    },
    "executionInfo": {
     "elapsed": 1434,
     "status": "ok",
     "timestamp": 1601135691918,
     "user": {
      "displayName": "elevely",
      "photoUrl": "",
      "userId": "13360139414869837982"
     },
     "user_tz": -180
    },
    "id": "pGXNzuLsGw1U",
    "outputId": "52fb393e-3e89-4fcd-ca36-43402fc42df3"
   },
   "outputs": [
    {
     "name": "stdout",
     "output_type": "stream",
     "text": [
      "True\n"
     ]
    }
   ],
   "source": [
    "a = list()\n",
    "b = []\n",
    "\n",
    "print(a == b)"
   ]
  },
  {
   "cell_type": "code",
   "execution_count": null,
   "metadata": {
    "colab": {
     "base_uri": "https://localhost:8080/",
     "height": 54
    },
    "executionInfo": {
     "elapsed": 784,
     "status": "ok",
     "timestamp": 1601135709430,
     "user": {
      "displayName": "elevely",
      "photoUrl": "",
      "userId": "13360139414869837982"
     },
     "user_tz": -180
    },
    "id": "bj2nfMarGw1Y",
    "outputId": "27132150-8dd2-4732-cdc1-057b373ff43b"
   },
   "outputs": [
    {
     "data": {
      "text/plain": [
       "['string', 100, 5.678, None]"
      ]
     },
     "execution_count": 48,
     "metadata": {
      "tags": []
     },
     "output_type": "execute_result"
    }
   ],
   "source": [
    "my_list = ['string', 100, 5.678, None]\n",
    "my_list"
   ]
  },
  {
   "cell_type": "markdown",
   "metadata": {
    "id": "_0VofYBDGw1Z"
   },
   "source": [
    "* `list(range(start, end[, step]))` - получить последовательность (список) целых чисел, начинающуюся со `start`, заканчивающуюся в `end-1` и шагом `step`"
   ]
  },
  {
   "cell_type": "code",
   "execution_count": 13,
   "metadata": {
    "colab": {
     "base_uri": "https://localhost:8080/",
     "height": 54
    },
    "executionInfo": {
     "elapsed": 940,
     "status": "ok",
     "timestamp": 1601136311389,
     "user": {
      "displayName": "elevely",
      "photoUrl": "",
      "userId": "13360139414869837982"
     },
     "user_tz": -180
    },
    "id": "9wj-fsL5Gw1a",
    "outputId": "a9659fe8-4ea7-41cf-868b-972a9f5d4011"
   },
   "outputs": [
    {
     "name": "stdout",
     "output_type": "stream",
     "text": [
      "range(1, 10) | <class 'range'>\n"
     ]
    }
   ],
   "source": [
    "array = range(1, 10)\n",
    "print(array, '|', type(array))\n",
    "\n"
   ]
  },
  {
   "cell_type": "code",
   "execution_count": 14,
   "metadata": {
    "colab": {
     "base_uri": "https://localhost:8080/",
     "height": 54
    },
    "executionInfo": {
     "elapsed": 1498,
     "status": "ok",
     "timestamp": 1601136313974,
     "user": {
      "displayName": "elevely",
      "photoUrl": "",
      "userId": "13360139414869837982"
     },
     "user_tz": -180
    },
    "id": "bYJBlGn3Gw1i",
    "outputId": "10dc1c11-e72d-403a-ebc2-e831fb4e196b"
   },
   "outputs": [
    {
     "name": "stdout",
     "output_type": "stream",
     "text": [
      "[1, 2, 3, 4, 5, 6, 7, 8, 9] | <class 'list'>\n"
     ]
    }
   ],
   "source": [
    "array = list(array)\n",
    "print(array, '|', type(array))"
   ]
  },
  {
   "cell_type": "code",
   "execution_count": 15,
   "metadata": {
    "colab": {
     "base_uri": "https://localhost:8080/",
     "height": 54
    },
    "executionInfo": {
     "elapsed": 658,
     "status": "ok",
     "timestamp": 1601136314457,
     "user": {
      "displayName": "elevely",
      "photoUrl": "",
      "userId": "13360139414869837982"
     },
     "user_tz": -180
    },
    "id": "nJAGzNrMGw1k",
    "outputId": "a54e628b-5662-4a0a-ca2c-e98a79cdadac"
   },
   "outputs": [
    {
     "data": {
      "text/plain": [
       "2"
      ]
     },
     "execution_count": 15,
     "metadata": {
      "tags": []
     },
     "output_type": "execute_result"
    }
   ],
   "source": [
    "array[1]"
   ]
  },
  {
   "cell_type": "code",
   "execution_count": 16,
   "metadata": {
    "colab": {
     "base_uri": "https://localhost:8080/",
     "height": 54
    },
    "executionInfo": {
     "elapsed": 1056,
     "status": "ok",
     "timestamp": 1601136315996,
     "user": {
      "displayName": "elevely",
      "photoUrl": "",
      "userId": "13360139414869837982"
     },
     "user_tz": -180
    },
    "id": "lccw9vyNGw1p",
    "outputId": "6dbefe17-ab6a-46f2-e471-de1618df01a9"
   },
   "outputs": [
    {
     "data": {
      "text/plain": [
       "9"
      ]
     },
     "execution_count": 16,
     "metadata": {
      "tags": []
     },
     "output_type": "execute_result"
    }
   ],
   "source": [
    "array[-1]"
   ]
  },
  {
   "cell_type": "code",
   "execution_count": 17,
   "metadata": {
    "colab": {
     "base_uri": "https://localhost:8080/",
     "height": 120
    },
    "executionInfo": {
     "elapsed": 798,
     "status": "ok",
     "timestamp": 1601136321001,
     "user": {
      "displayName": "elevely",
      "photoUrl": "",
      "userId": "13360139414869837982"
     },
     "user_tz": -180
    },
    "id": "Oa7FXqyrGw1r",
    "outputId": "b1a2970c-874d-4e5a-95f2-fa71fe8ff074"
   },
   "outputs": [
    {
     "name": "stdout",
     "output_type": "stream",
     "text": [
      "0\n",
      "1\n",
      "2\n",
      "3\n",
      "4\n"
     ]
    }
   ],
   "source": [
    "for i in range(5):\n",
    "    print(i)"
   ]
  },
  {
   "cell_type": "markdown",
   "metadata": {
    "id": "5kWpqBrgGw1t"
   },
   "source": [
    "* Перевернуть список:"
   ]
  },
  {
   "cell_type": "code",
   "execution_count": 18,
   "metadata": {
    "colab": {
     "base_uri": "https://localhost:8080/",
     "height": 54
    },
    "executionInfo": {
     "elapsed": 2340,
     "status": "ok",
     "timestamp": 1601136343662,
     "user": {
      "displayName": "elevely",
      "photoUrl": "",
      "userId": "13360139414869837982"
     },
     "user_tz": -180
    },
    "id": "J0BYX4JXGw1v",
    "outputId": "433f4f4c-ef69-4ba5-b53b-13878b5455e3"
   },
   "outputs": [
    {
     "data": {
      "text/plain": [
       "[9, 8, 7, 6, 5, 4, 3, 2]"
      ]
     },
     "execution_count": 18,
     "metadata": {
      "tags": []
     },
     "output_type": "execute_result"
    }
   ],
   "source": [
    "array = array[len(array):0:-1]\n",
    "array"
   ]
  },
  {
   "cell_type": "markdown",
   "metadata": {
    "id": "4VKPt0CwGw1z"
   },
   "source": [
    "* Срезы (`slice`'s) - это объекты языка Python, позволяющие получить какую-то часть итерируемого объекта.  \n",
    "Пример:"
   ]
  },
  {
   "cell_type": "code",
   "execution_count": 19,
   "metadata": {
    "colab": {
     "base_uri": "https://localhost:8080/",
     "height": 54
    },
    "executionInfo": {
     "elapsed": 1005,
     "status": "ok",
     "timestamp": 1601136404787,
     "user": {
      "displayName": "elevely",
      "photoUrl": "",
      "userId": "13360139414869837982"
     },
     "user_tz": -180
    },
    "id": "HBULSoIXGw1z",
    "outputId": "99f3d279-f964-40b8-d179-547b91fa83ad"
   },
   "outputs": [
    {
     "data": {
      "text/plain": [
       "[0, 1, 2, 3, 4, 5, 6, 7, 8, 9]"
      ]
     },
     "execution_count": 19,
     "metadata": {
      "tags": []
     },
     "output_type": "execute_result"
    }
   ],
   "source": [
    "foo = list(range(10))\n",
    "foo"
   ]
  },
  {
   "cell_type": "code",
   "execution_count": 20,
   "metadata": {
    "colab": {
     "base_uri": "https://localhost:8080/",
     "height": 54
    },
    "executionInfo": {
     "elapsed": 1996,
     "status": "ok",
     "timestamp": 1601136407666,
     "user": {
      "displayName": "elevely",
      "photoUrl": "",
      "userId": "13360139414869837982"
     },
     "user_tz": -180
    },
    "id": "THekTQaHGw11",
    "outputId": "38d8631c-d9f4-4b11-d1ca-f3496d75d05f"
   },
   "outputs": [
    {
     "data": {
      "text/plain": [
       "[0, 1, 2, 3, 4]"
      ]
     },
     "execution_count": 20,
     "metadata": {
      "tags": []
     },
     "output_type": "execute_result"
    }
   ],
   "source": [
    "foo[:5]"
   ]
  },
  {
   "cell_type": "code",
   "execution_count": 21,
   "metadata": {
    "colab": {
     "base_uri": "https://localhost:8080/",
     "height": 54
    },
    "executionInfo": {
     "elapsed": 1132,
     "status": "ok",
     "timestamp": 1601136411144,
     "user": {
      "displayName": "elevely",
      "photoUrl": "",
      "userId": "13360139414869837982"
     },
     "user_tz": -180
    },
    "id": "j642PY8CGw15",
    "outputId": "7b2da024-bb6b-4d80-b6a1-7b645f98e450"
   },
   "outputs": [
    {
     "data": {
      "text/plain": [
       "[5, 6, 7, 8, 9]"
      ]
     },
     "execution_count": 21,
     "metadata": {
      "tags": []
     },
     "output_type": "execute_result"
    }
   ],
   "source": [
    "foo[5:]"
   ]
  },
  {
   "cell_type": "code",
   "execution_count": 22,
   "metadata": {
    "colab": {
     "base_uri": "https://localhost:8080/",
     "height": 54
    },
    "executionInfo": {
     "elapsed": 1392,
     "status": "ok",
     "timestamp": 1601136415296,
     "user": {
      "displayName": "elevely",
      "photoUrl": "",
      "userId": "13360139414869837982"
     },
     "user_tz": -180
    },
    "id": "zGfCADqAGw17",
    "outputId": "9e8dd04c-6abd-43a5-e767-919249e99844"
   },
   "outputs": [
    {
     "data": {
      "text/plain": [
       "[2, 3, 4]"
      ]
     },
     "execution_count": 22,
     "metadata": {
      "tags": []
     },
     "output_type": "execute_result"
    }
   ],
   "source": [
    "foo[2:5]"
   ]
  },
  {
   "cell_type": "code",
   "execution_count": 23,
   "metadata": {
    "colab": {
     "base_uri": "https://localhost:8080/",
     "height": 54
    },
    "executionInfo": {
     "elapsed": 758,
     "status": "ok",
     "timestamp": 1601136428660,
     "user": {
      "displayName": "elevely",
      "photoUrl": "",
      "userId": "13360139414869837982"
     },
     "user_tz": -180
    },
    "id": "k_UVyPZOGw1-",
    "outputId": "9ec481aa-46e2-4b73-c815-1ee29495baad"
   },
   "outputs": [
    {
     "name": "stdout",
     "output_type": "stream",
     "text": [
      "slice(2, 5, None) | <class 'slice'>\n"
     ]
    }
   ],
   "source": [
    "slice_2_5 = slice(2, 5)\n",
    "print(slice_2_5, '|', type(slice_2_5))"
   ]
  },
  {
   "cell_type": "code",
   "execution_count": 24,
   "metadata": {
    "colab": {
     "base_uri": "https://localhost:8080/",
     "height": 54
    },
    "executionInfo": {
     "elapsed": 1016,
     "status": "ok",
     "timestamp": 1601136448585,
     "user": {
      "displayName": "elevely",
      "photoUrl": "",
      "userId": "13360139414869837982"
     },
     "user_tz": -180
    },
    "id": "rrUM9yvEGw2A",
    "outputId": "2cc6ef8e-2299-45e3-9e6d-44283abf062f"
   },
   "outputs": [
    {
     "data": {
      "text/plain": [
       "[2, 3, 4]"
      ]
     },
     "execution_count": 24,
     "metadata": {
      "tags": []
     },
     "output_type": "execute_result"
    }
   ],
   "source": [
    "foo[slice_2_5]"
   ]
  },
  {
   "cell_type": "markdown",
   "metadata": {
    "id": "mMqdf9s1Gw2D"
   },
   "source": [
    "* `S.join(iterable)` - возвращает строку, которая является конкатенацией строк из `iterable`. Разделитель между строками - строка `S`"
   ]
  },
  {
   "cell_type": "code",
   "execution_count": 25,
   "metadata": {
    "executionInfo": {
     "elapsed": 1036,
     "status": "ok",
     "timestamp": 1601136485032,
     "user": {
      "displayName": "elevely",
      "photoUrl": "",
      "userId": "13360139414869837982"
     },
     "user_tz": -180
    },
    "id": "9FqDIIhfGw2E"
   },
   "outputs": [],
   "source": [
    "str_array = ['a', 'b', 'c', 'd', 'e']"
   ]
  },
  {
   "cell_type": "code",
   "execution_count": 26,
   "metadata": {
    "colab": {
     "base_uri": "https://localhost:8080/",
     "height": 58
    },
    "executionInfo": {
     "elapsed": 972,
     "status": "ok",
     "timestamp": 1601136485536,
     "user": {
      "displayName": "elevely",
      "photoUrl": "",
      "userId": "13360139414869837982"
     },
     "user_tz": -180
    },
    "id": "hhPsibd6Gw2G",
    "outputId": "e6f4e8c9-5058-4961-e14d-6c5cadb27bb3"
   },
   "outputs": [
    {
     "data": {
      "application/vnd.google.colaboratory.intrinsic+json": {
       "type": "string"
      },
      "text/plain": [
       "'a b c d e'"
      ]
     },
     "execution_count": 26,
     "metadata": {
      "tags": []
     },
     "output_type": "execute_result"
    }
   ],
   "source": [
    "' '.join(str_array)"
   ]
  },
  {
   "cell_type": "code",
   "execution_count": 27,
   "metadata": {
    "colab": {
     "base_uri": "https://localhost:8080/",
     "height": 58
    },
    "executionInfo": {
     "elapsed": 854,
     "status": "ok",
     "timestamp": 1601136497069,
     "user": {
      "displayName": "elevely",
      "photoUrl": "",
      "userId": "13360139414869837982"
     },
     "user_tz": -180
    },
    "id": "SIUdX4uTGw2I",
    "outputId": "c17c3203-493c-4ce5-baa0-ab969d39e4c3"
   },
   "outputs": [
    {
     "data": {
      "application/vnd.google.colaboratory.intrinsic+json": {
       "type": "string"
      },
      "text/plain": [
       "'a!_and_!b!_and_!c!_and_!d!_and_!e'"
      ]
     },
     "execution_count": 27,
     "metadata": {
      "tags": []
     },
     "output_type": "execute_result"
    }
   ],
   "source": [
    "'!_and_!'.join(str_array)"
   ]
  },
  {
   "cell_type": "markdown",
   "metadata": {
    "id": "4-_DSyd8Gw2K"
   },
   "source": [
    "* Списки можно \"склеивать\":"
   ]
  },
  {
   "cell_type": "code",
   "execution_count": 28,
   "metadata": {
    "colab": {
     "base_uri": "https://localhost:8080/",
     "height": 54
    },
    "executionInfo": {
     "elapsed": 1932,
     "status": "ok",
     "timestamp": 1601136509282,
     "user": {
      "displayName": "elevely",
      "photoUrl": "",
      "userId": "13360139414869837982"
     },
     "user_tz": -180
    },
    "id": "v6LX530dGw2K",
    "outputId": "969c434f-eae4-4f51-805b-5bb9166e9daf"
   },
   "outputs": [
    {
     "name": "stdout",
     "output_type": "stream",
     "text": [
      "[1, 2, 3, 4, 5, 6]\n"
     ]
    }
   ],
   "source": [
    "a = [1, 2, 3]\n",
    "b = [4, 5, 6]\n",
    "\n",
    "print(a + b)"
   ]
  },
  {
   "cell_type": "markdown",
   "metadata": {
    "id": "n6G2F8ZHGw2O"
   },
   "source": [
    "### Методы класса list"
   ]
  },
  {
   "cell_type": "code",
   "execution_count": 29,
   "metadata": {
    "colab": {
     "base_uri": "https://localhost:8080/",
     "height": 798
    },
    "executionInfo": {
     "elapsed": 947,
     "status": "ok",
     "timestamp": 1601136528985,
     "user": {
      "displayName": "elevely",
      "photoUrl": "",
      "userId": "13360139414869837982"
     },
     "user_tz": -180
    },
    "id": "lYIDEl_NGw2O",
    "outputId": "61bd2c78-90b8-488e-e899-d4aff3eaea43"
   },
   "outputs": [
    {
     "data": {
      "text/plain": [
       "['__add__',\n",
       " '__class__',\n",
       " '__contains__',\n",
       " '__delattr__',\n",
       " '__delitem__',\n",
       " '__dir__',\n",
       " '__doc__',\n",
       " '__eq__',\n",
       " '__format__',\n",
       " '__ge__',\n",
       " '__getattribute__',\n",
       " '__getitem__',\n",
       " '__gt__',\n",
       " '__hash__',\n",
       " '__iadd__',\n",
       " '__imul__',\n",
       " '__init__',\n",
       " '__init_subclass__',\n",
       " '__iter__',\n",
       " '__le__',\n",
       " '__len__',\n",
       " '__lt__',\n",
       " '__mul__',\n",
       " '__ne__',\n",
       " '__new__',\n",
       " '__reduce__',\n",
       " '__reduce_ex__',\n",
       " '__repr__',\n",
       " '__reversed__',\n",
       " '__rmul__',\n",
       " '__setattr__',\n",
       " '__setitem__',\n",
       " '__sizeof__',\n",
       " '__str__',\n",
       " '__subclasshook__',\n",
       " 'append',\n",
       " 'clear',\n",
       " 'copy',\n",
       " 'count',\n",
       " 'extend',\n",
       " 'index',\n",
       " 'insert',\n",
       " 'pop',\n",
       " 'remove',\n",
       " 'reverse',\n",
       " 'sort']"
      ]
     },
     "execution_count": 29,
     "metadata": {
      "tags": []
     },
     "output_type": "execute_result"
    }
   ],
   "source": [
    "dir(list)"
   ]
  },
  {
   "cell_type": "markdown",
   "metadata": {
    "id": "6eSCqxCeGw2Q"
   },
   "source": [
    "* `L.append(element)` - добавляет элемент `element` в список `L`"
   ]
  },
  {
   "cell_type": "code",
   "execution_count": 30,
   "metadata": {
    "colab": {
     "base_uri": "https://localhost:8080/",
     "height": 54
    },
    "executionInfo": {
     "elapsed": 781,
     "status": "ok",
     "timestamp": 1601136562592,
     "user": {
      "displayName": "elevely",
      "photoUrl": "",
      "userId": "13360139414869837982"
     },
     "user_tz": -180
    },
    "id": "Jrnu0bDAGw2R",
    "outputId": "4397d31c-c78c-4b84-c641-1429208d6a26"
   },
   "outputs": [
    {
     "data": {
      "text/plain": [
       "[4, 5, 1, 3, 2, 'BANG!']"
      ]
     },
     "execution_count": 30,
     "metadata": {
      "tags": []
     },
     "output_type": "execute_result"
    }
   ],
   "source": [
    "l = [4, 5, 1, 3, 2]\n",
    "\n",
    "l.append('BANG!')\n",
    "l"
   ]
  },
  {
   "cell_type": "markdown",
   "metadata": {
    "id": "rsWorHB2Gw2T"
   },
   "source": [
    "* `sorted(iterable, key)` - возвращает объект, являющийся отсортированной в соответствии с компаратором (по ключу) `key` версией объекта `iterable`. **НЕ изменяет начальный объект!**"
   ]
  },
  {
   "cell_type": "code",
   "execution_count": 31,
   "metadata": {
    "colab": {
     "base_uri": "https://localhost:8080/",
     "height": 182
    },
    "executionInfo": {
     "elapsed": 872,
     "status": "error",
     "timestamp": 1601136609960,
     "user": {
      "displayName": "elevely",
      "photoUrl": "",
      "userId": "13360139414869837982"
     },
     "user_tz": -180
    },
    "id": "tTPZWRmGGw2U",
    "outputId": "402935da-8c66-4c02-c027-64e0c2069fea"
   },
   "outputs": [
    {
     "ename": "TypeError",
     "evalue": "ignored",
     "output_type": "error",
     "traceback": [
      "\u001b[0;31m---------------------------------------------------------------------------\u001b[0m",
      "\u001b[0;31mTypeError\u001b[0m                                 Traceback (most recent call last)",
      "\u001b[0;32m<ipython-input-31-816cdfc234cd>\u001b[0m in \u001b[0;36m<module>\u001b[0;34m()\u001b[0m\n\u001b[0;32m----> 1\u001b[0;31m \u001b[0mprint\u001b[0m\u001b[0;34m(\u001b[0m\u001b[0msorted\u001b[0m\u001b[0;34m(\u001b[0m\u001b[0ml\u001b[0m\u001b[0;34m)\u001b[0m\u001b[0;34m,\u001b[0m \u001b[0;34m'|'\u001b[0m\u001b[0;34m,\u001b[0m \u001b[0ml\u001b[0m\u001b[0;34m)\u001b[0m\u001b[0;34m\u001b[0m\u001b[0;34m\u001b[0m\u001b[0m\n\u001b[0m",
      "\u001b[0;31mTypeError\u001b[0m: '<' not supported between instances of 'str' and 'int'"
     ]
    }
   ],
   "source": [
    "print(sorted(l), '|', l)"
   ]
  },
  {
   "cell_type": "code",
   "execution_count": 32,
   "metadata": {
    "colab": {
     "base_uri": "https://localhost:8080/",
     "height": 58
    },
    "executionInfo": {
     "elapsed": 987,
     "status": "ok",
     "timestamp": 1601136627827,
     "user": {
      "displayName": "elevely",
      "photoUrl": "",
      "userId": "13360139414869837982"
     },
     "user_tz": -180
    },
    "id": "Ccp7jFb2Gw2Y",
    "outputId": "b31ba125-6fac-4b24-f757-0857ebfb4554"
   },
   "outputs": [
    {
     "data": {
      "application/vnd.google.colaboratory.intrinsic+json": {
       "type": "string"
      },
      "text/plain": [
       "'BANG!'"
      ]
     },
     "execution_count": 32,
     "metadata": {
      "tags": []
     },
     "output_type": "execute_result"
    }
   ],
   "source": [
    "l.pop()"
   ]
  },
  {
   "cell_type": "code",
   "execution_count": 33,
   "metadata": {
    "colab": {
     "base_uri": "https://localhost:8080/",
     "height": 54
    },
    "executionInfo": {
     "elapsed": 1088,
     "status": "ok",
     "timestamp": 1601136637135,
     "user": {
      "displayName": "elevely",
      "photoUrl": "",
      "userId": "13360139414869837982"
     },
     "user_tz": -180
    },
    "id": "rwsG5uIsGw2c",
    "outputId": "7adda7bf-bb27-4cb0-e94d-8e32695d4191"
   },
   "outputs": [
    {
     "name": "stdout",
     "output_type": "stream",
     "text": [
      "[1, 2, 3, 4, 5] | [4, 5, 1, 3, 2]\n"
     ]
    }
   ],
   "source": [
    "print(sorted(l), '|', l)"
   ]
  },
  {
   "cell_type": "code",
   "execution_count": 34,
   "metadata": {
    "executionInfo": {
     "elapsed": 1248,
     "status": "ok",
     "timestamp": 1601136656999,
     "user": {
      "displayName": "elevely",
      "photoUrl": "",
      "userId": "13360139414869837982"
     },
     "user_tz": -180
    },
    "id": "e6DfAfEcGw2j"
   },
   "outputs": [],
   "source": [
    "def cmp(string):\n",
    "    return len(string)"
   ]
  },
  {
   "cell_type": "code",
   "execution_count": 43,
   "metadata": {
    "colab": {
     "base_uri": "https://localhost:8080/",
     "height": 54
    },
    "executionInfo": {
     "elapsed": 1532,
     "status": "ok",
     "timestamp": 1601136975199,
     "user": {
      "displayName": "elevely",
      "photoUrl": "",
      "userId": "13360139414869837982"
     },
     "user_tz": -180
    },
    "id": "0_i71OVgMy_E",
    "outputId": "961e2e31-49b0-4ea3-df07-e1078f85dbed"
   },
   "outputs": [
    {
     "data": {
      "text/plain": [
       "[9, 8, 7, 6, 5, 4, 3, 2]"
      ]
     },
     "execution_count": 43,
     "metadata": {
      "tags": []
     },
     "output_type": "execute_result"
    }
   ],
   "source": []
  },
  {
   "cell_type": "code",
   "execution_count": 35,
   "metadata": {
    "colab": {
     "base_uri": "https://localhost:8080/",
     "height": 54
    },
    "executionInfo": {
     "elapsed": 1358,
     "status": "ok",
     "timestamp": 1601136701072,
     "user": {
      "displayName": "elevely",
      "photoUrl": "",
      "userId": "13360139414869837982"
     },
     "user_tz": -180
    },
    "id": "rcN9rXiiGw2l",
    "outputId": "00c13703-0f88-40a3-c492-cf8cb251a3f4"
   },
   "outputs": [
    {
     "data": {
      "text/plain": [
       "['Оля', 'Соня', 'Френк', 'Василий', 'Александр', 'Анастасия']"
      ]
     },
     "execution_count": 35,
     "metadata": {
      "tags": []
     },
     "output_type": "execute_result"
    }
   ],
   "source": [
    "names = ['Александр', 'Василий', 'Анастасия', 'Соня', 'Френк', 'Оля']\n",
    "sorted(names, key=cmp)"
   ]
  },
  {
   "cell_type": "code",
   "execution_count": 36,
   "metadata": {
    "colab": {
     "base_uri": "https://localhost:8080/",
     "height": 54
    },
    "executionInfo": {
     "elapsed": 1238,
     "status": "ok",
     "timestamp": 1601136785065,
     "user": {
      "displayName": "elevely",
      "photoUrl": "",
      "userId": "13360139414869837982"
     },
     "user_tz": -180
    },
    "id": "pllKkf23Gw2p",
    "outputId": "7beb08b0-e70d-4a8a-ea3c-4b0cff68a4f1"
   },
   "outputs": [
    {
     "data": {
      "text/plain": [
       "['Оля', 'Соня', 'Френк', 'Василий', 'Александр', 'Анастасия']"
      ]
     },
     "execution_count": 36,
     "metadata": {
      "tags": []
     },
     "output_type": "execute_result"
    }
   ],
   "source": [
    "names = ['Александр', 'Василий', 'Анастасия', 'Соня', 'Френк', 'Оля']\n",
    "sorted(names, key=lambda x: len(x))"
   ]
  },
  {
   "cell_type": "code",
   "execution_count": 37,
   "metadata": {
    "colab": {
     "base_uri": "https://localhost:8080/",
     "height": 54
    },
    "executionInfo": {
     "elapsed": 1356,
     "status": "ok",
     "timestamp": 1601136788187,
     "user": {
      "displayName": "elevely",
      "photoUrl": "",
      "userId": "13360139414869837982"
     },
     "user_tz": -180
    },
    "id": "8n55sk6nGw2u",
    "outputId": "9db1c123-f9d3-46a5-da64-9f7b8dbc4bfe"
   },
   "outputs": [
    {
     "data": {
      "text/plain": [
       "['Александр', 'Василий', 'Анастасия', 'Соня', 'Френк', 'Оля']"
      ]
     },
     "execution_count": 37,
     "metadata": {
      "tags": []
     },
     "output_type": "execute_result"
    }
   ],
   "source": [
    "names"
   ]
  },
  {
   "cell_type": "markdown",
   "metadata": {
    "id": "Ci84651GGw2w"
   },
   "source": [
    "* `L.sort(key)` - сортирует лист L в соответствии с компаратором (по ключу) key. **Изменяет начальный объект!**"
   ]
  },
  {
   "cell_type": "code",
   "execution_count": 38,
   "metadata": {
    "colab": {
     "base_uri": "https://localhost:8080/",
     "height": 215
    },
    "executionInfo": {
     "elapsed": 1155,
     "status": "error",
     "timestamp": 1601136850689,
     "user": {
      "displayName": "elevely",
      "photoUrl": "",
      "userId": "13360139414869837982"
     },
     "user_tz": -180
    },
    "id": "qBtxCB2pGw2x",
    "outputId": "895b249e-e2ca-46a3-cbc0-852d6e756873"
   },
   "outputs": [
    {
     "ename": "TypeError",
     "evalue": "ignored",
     "output_type": "error",
     "traceback": [
      "\u001b[0;31m---------------------------------------------------------------------------\u001b[0m",
      "\u001b[0;31mTypeError\u001b[0m                                 Traceback (most recent call last)",
      "\u001b[0;32m<ipython-input-38-ec31974953b5>\u001b[0m in \u001b[0;36m<module>\u001b[0;34m()\u001b[0m\n\u001b[1;32m      4\u001b[0m \u001b[0ml\u001b[0m\u001b[0;34m\u001b[0m\u001b[0;34m\u001b[0m\u001b[0m\n\u001b[1;32m      5\u001b[0m \u001b[0;34m\u001b[0m\u001b[0m\n\u001b[0;32m----> 6\u001b[0;31m \u001b[0ml\u001b[0m\u001b[0;34m.\u001b[0m\u001b[0msort\u001b[0m\u001b[0;34m(\u001b[0m\u001b[0;34m)\u001b[0m\u001b[0;34m\u001b[0m\u001b[0;34m\u001b[0m\u001b[0m\n\u001b[0m",
      "\u001b[0;31mTypeError\u001b[0m: '<' not supported between instances of 'str' and 'int'"
     ]
    }
   ],
   "source": [
    "l = [1, 2, 3, 4, 5]\n",
    "\n",
    "l.append('BANG!')\n",
    "l\n",
    "\n",
    "l.sort()"
   ]
  },
  {
   "cell_type": "code",
   "execution_count": 39,
   "metadata": {
    "colab": {
     "base_uri": "https://localhost:8080/",
     "height": 58
    },
    "executionInfo": {
     "elapsed": 977,
     "status": "ok",
     "timestamp": 1601136868859,
     "user": {
      "displayName": "elevely",
      "photoUrl": "",
      "userId": "13360139414869837982"
     },
     "user_tz": -180
    },
    "id": "I7Zuo1hgGw2z",
    "outputId": "376ffa75-6fff-4cb0-f18e-9ceb3bcbd1f4"
   },
   "outputs": [
    {
     "data": {
      "application/vnd.google.colaboratory.intrinsic+json": {
       "type": "string"
      },
      "text/plain": [
       "'BANG!'"
      ]
     },
     "execution_count": 39,
     "metadata": {
      "tags": []
     },
     "output_type": "execute_result"
    }
   ],
   "source": [
    "l.pop()"
   ]
  },
  {
   "cell_type": "code",
   "execution_count": 40,
   "metadata": {
    "colab": {
     "base_uri": "https://localhost:8080/",
     "height": 54
    },
    "executionInfo": {
     "elapsed": 1486,
     "status": "ok",
     "timestamp": 1601136870958,
     "user": {
      "displayName": "elevely",
      "photoUrl": "",
      "userId": "13360139414869837982"
     },
     "user_tz": -180
    },
    "id": "b0voXsJQGw23",
    "outputId": "be96693e-8866-4416-c827-76a73c63794e"
   },
   "outputs": [
    {
     "data": {
      "text/plain": [
       "[1, 2, 3, 4, 5]"
      ]
     },
     "execution_count": 40,
     "metadata": {
      "tags": []
     },
     "output_type": "execute_result"
    }
   ],
   "source": [
    "l"
   ]
  },
  {
   "cell_type": "code",
   "execution_count": 41,
   "metadata": {
    "colab": {
     "base_uri": "https://localhost:8080/",
     "height": 54
    },
    "executionInfo": {
     "elapsed": 1260,
     "status": "ok",
     "timestamp": 1601136872524,
     "user": {
      "displayName": "elevely",
      "photoUrl": "",
      "userId": "13360139414869837982"
     },
     "user_tz": -180
    },
    "id": "_skPHJ2IGw25",
    "outputId": "87cada32-2ac4-427f-fb1f-536a07da96ff"
   },
   "outputs": [
    {
     "data": {
      "text/plain": [
       "[5, 4, 3, 2, 1]"
      ]
     },
     "execution_count": 41,
     "metadata": {
      "tags": []
     },
     "output_type": "execute_result"
    }
   ],
   "source": [
    "l.sort(reverse=True)\n",
    "l"
   ]
  },
  {
   "cell_type": "markdown",
   "metadata": {
    "id": "3XbUrbRTGw27"
   },
   "source": [
    "* `L.count(element)` - возвращает количество вхождений элемента `element` в список `L`"
   ]
  },
  {
   "cell_type": "code",
   "execution_count": 44,
   "metadata": {
    "colab": {
     "base_uri": "https://localhost:8080/",
     "height": 54
    },
    "executionInfo": {
     "elapsed": 1458,
     "status": "ok",
     "timestamp": 1601137123313,
     "user": {
      "displayName": "elevely",
      "photoUrl": "",
      "userId": "13360139414869837982"
     },
     "user_tz": -180
    },
    "id": "6HKrl1hRGw29",
    "outputId": "fdda711d-1494-45fc-a9b1-746b7aaef562"
   },
   "outputs": [
    {
     "data": {
      "text/plain": [
       "1"
      ]
     },
     "execution_count": 44,
     "metadata": {
      "tags": []
     },
     "output_type": "execute_result"
    }
   ],
   "source": [
    "l.count(1)"
   ]
  },
  {
   "cell_type": "code",
   "execution_count": 45,
   "metadata": {
    "colab": {
     "base_uri": "https://localhost:8080/",
     "height": 54
    },
    "executionInfo": {
     "elapsed": 935,
     "status": "ok",
     "timestamp": 1601137129638,
     "user": {
      "displayName": "elevely",
      "photoUrl": "",
      "userId": "13360139414869837982"
     },
     "user_tz": -180
    },
    "id": "zk_xk_sMGw3A",
    "outputId": "820e9837-e318-4e8e-f4dd-abd1a393948d"
   },
   "outputs": [
    {
     "data": {
      "text/plain": [
       "0"
      ]
     },
     "execution_count": 45,
     "metadata": {
      "tags": []
     },
     "output_type": "execute_result"
    }
   ],
   "source": [
    "l.count('padabum')"
   ]
  },
  {
   "cell_type": "code",
   "execution_count": 46,
   "metadata": {
    "colab": {
     "base_uri": "https://localhost:8080/",
     "height": 54
    },
    "executionInfo": {
     "elapsed": 990,
     "status": "ok",
     "timestamp": 1601137136369,
     "user": {
      "displayName": "elevely",
      "photoUrl": "",
      "userId": "13360139414869837982"
     },
     "user_tz": -180
    },
    "id": "konkZu60Gw3D",
    "outputId": "11444d24-f900-41c7-879c-312662169904"
   },
   "outputs": [
    {
     "data": {
      "text/plain": [
       "5"
      ]
     },
     "execution_count": 46,
     "metadata": {
      "tags": []
     },
     "output_type": "execute_result"
    }
   ],
   "source": [
    "len(l)"
   ]
  },
  {
   "cell_type": "markdown",
   "metadata": {
    "id": "z-1Xw-VsGw3H"
   },
   "source": [
    "`L.index(element)` - возвращает индекс элемента `element` в списке `L`, если он там присутствует, `None` иначе"
   ]
  },
  {
   "cell_type": "code",
   "execution_count": 47,
   "metadata": {
    "colab": {
     "base_uri": "https://localhost:8080/",
     "height": 54
    },
    "executionInfo": {
     "elapsed": 943,
     "status": "ok",
     "timestamp": 1601137143432,
     "user": {
      "displayName": "elevely",
      "photoUrl": "",
      "userId": "13360139414869837982"
     },
     "user_tz": -180
    },
    "id": "3wzJgl6AGw3I",
    "outputId": "db88157c-8e9a-4ed6-a8e1-1569e6551bbd"
   },
   "outputs": [
    {
     "data": {
      "text/plain": [
       "2"
      ]
     },
     "execution_count": 47,
     "metadata": {
      "tags": []
     },
     "output_type": "execute_result"
    }
   ],
   "source": [
    "l.index(3)"
   ]
  },
  {
   "cell_type": "markdown",
   "metadata": {
    "id": "USIIpRQeGw3N"
   },
   "source": [
    "---"
   ]
  },
  {
   "cell_type": "markdown",
   "metadata": {
    "id": "HA7rCsAcGw3O"
   },
   "source": [
    "### Задание 2\n"
   ]
  },
  {
   "cell_type": "markdown",
   "metadata": {
    "id": "5F8N8lYHGw3P"
   },
   "source": [
    "1. Даны два списка одинаковых размеров из одинаковых элементов:  \n",
    "`items = [1 5 6 9 8 7 2 3 4]`  \n",
    "`shuffled_items = [2 3 4 1 6 5 7 9 8]`  \n",
    "\n",
    "2. Расставьте элементы (с помощью функции `sort()`) в списоке `items` так, чтобы получился список `shuffled_items`  "
   ]
  },
  {
   "cell_type": "code",
   "execution_count": 49,
   "metadata": {
    "colab": {
     "base_uri": "https://localhost:8080/",
     "height": 71
    },
    "executionInfo": {
     "elapsed": 2971,
     "status": "ok",
     "timestamp": 1601137314332,
     "user": {
      "displayName": "elevely",
      "photoUrl": "",
      "userId": "13360139414869837982"
     },
     "user_tz": -180
    },
    "id": "cnSSg6bjGw3P",
    "outputId": "0cdfbe4f-0dd1-4b23-fa9d-dd990a19dffe"
   },
   "outputs": [
    {
     "name": "stdout",
     "output_type": "stream",
     "text": [
      "[2, 3, 4, 1, 6, 5, 7, 9, 8]\n",
      "[2, 3, 4, 1, 6, 5, 7, 9, 8]\n"
     ]
    }
   ],
   "source": [
    "items = [1, 5, 6, 9, 8, 7, 2, 3, 4]\n",
    "shuffled_items = [2, 3, 4, 1, 6, 5, 7, 9, 8]\n",
    "items.sort(key=lambda x: shuffled_items.index(x))\n",
    "print(items)\n",
    "print(shuffled_items)"
   ]
  },
  {
   "cell_type": "markdown",
   "metadata": {
    "id": "MXFzodUsGw3s"
   },
   "source": [
    "---"
   ]
  },
  {
   "cell_type": "markdown",
   "metadata": {
    "id": "04VwiGfkGw3t"
   },
   "source": [
    "### Циклы - for и while"
   ]
  },
  {
   "cell_type": "code",
   "execution_count": 50,
   "metadata": {
    "colab": {
     "base_uri": "https://localhost:8080/",
     "height": 104
    },
    "executionInfo": {
     "elapsed": 865,
     "status": "ok",
     "timestamp": 1601137400593,
     "user": {
      "displayName": "elevely",
      "photoUrl": "",
      "userId": "13360139414869837982"
     },
     "user_tz": -180
    },
    "id": "RGyfjAhGGw3u",
    "outputId": "b69bdef0-6302-484d-ad51-c8e5bc02c55a"
   },
   "outputs": [
    {
     "name": "stdout",
     "output_type": "stream",
     "text": [
      "decision tree\n",
      "linear model\n",
      "svm\n",
      "ensemble\n"
     ]
    }
   ],
   "source": [
    "models = ['decision tree', 'linear model', 'svm', 'ensemble']\n",
    "\n",
    "for model in models:\n",
    "    print(model)"
   ]
  },
  {
   "cell_type": "code",
   "execution_count": 51,
   "metadata": {
    "colab": {
     "base_uri": "https://localhost:8080/",
     "height": 120
    },
    "executionInfo": {
     "elapsed": 928,
     "status": "ok",
     "timestamp": 1601137451511,
     "user": {
      "displayName": "elevely",
      "photoUrl": "",
      "userId": "13360139414869837982"
     },
     "user_tz": -180
    },
    "id": "qwWXAn2zGw3v",
    "outputId": "42ca4100-09e2-454f-8ec9-e8f7726fe77d"
   },
   "outputs": [
    {
     "name": "stdout",
     "output_type": "stream",
     "text": [
      "90\n",
      "80\n",
      "70\n",
      "60\n",
      "50\n"
     ]
    }
   ],
   "source": [
    "x = 100\n",
    "\n",
    "while x > 50:\n",
    "    x -= 10\n",
    "    print(x)"
   ]
  },
  {
   "cell_type": "markdown",
   "metadata": {
    "id": "70QerwaDGw3y"
   },
   "source": [
    "### enumerate, zip"
   ]
  },
  {
   "cell_type": "code",
   "execution_count": 57,
   "metadata": {
    "colab": {
     "base_uri": "https://localhost:8080/",
     "height": 54
    },
    "executionInfo": {
     "elapsed": 1049,
     "status": "ok",
     "timestamp": 1601137618649,
     "user": {
      "displayName": "elevely",
      "photoUrl": "",
      "userId": "13360139414869837982"
     },
     "user_tz": -180
    },
    "id": "Ywi776zAGw3y",
    "outputId": "976a4ebc-6d3b-4800-f97c-2dff64710ab7"
   },
   "outputs": [
    {
     "data": {
      "text/plain": [
       "<zip at 0x7f776551eb88>"
      ]
     },
     "execution_count": 57,
     "metadata": {
      "tags": []
     },
     "output_type": "execute_result"
    }
   ],
   "source": [
    "first = 'a b c d e f g'.split(' ')\n",
    "second = '1 2 3 4 '.split(' ')\n",
    "\n",
    "zip(first, second)"
   ]
  },
  {
   "cell_type": "code",
   "execution_count": 58,
   "metadata": {
    "colab": {
     "base_uri": "https://localhost:8080/",
     "height": 54
    },
    "executionInfo": {
     "elapsed": 711,
     "status": "ok",
     "timestamp": 1601137620366,
     "user": {
      "displayName": "elevely",
      "photoUrl": "",
      "userId": "13360139414869837982"
     },
     "user_tz": -180
    },
    "id": "m0yDMUT4PDok",
    "outputId": "a98f8375-a451-4587-f16c-db3658637765"
   },
   "outputs": [
    {
     "data": {
      "text/plain": [
       "(['a', 'b', 'c', 'd', 'e', 'f', 'g'], ['1', '2', '3', '4', ''])"
      ]
     },
     "execution_count": 58,
     "metadata": {
      "tags": []
     },
     "output_type": "execute_result"
    }
   ],
   "source": [
    "first, second"
   ]
  },
  {
   "cell_type": "code",
   "execution_count": 59,
   "metadata": {
    "colab": {
     "base_uri": "https://localhost:8080/",
     "height": 120
    },
    "executionInfo": {
     "elapsed": 1168,
     "status": "ok",
     "timestamp": 1601137624451,
     "user": {
      "displayName": "elevely",
      "photoUrl": "",
      "userId": "13360139414869837982"
     },
     "user_tz": -180
    },
    "id": "grtoIeZnGw31",
    "outputId": "cc4b7b7f-1c2a-4d1b-a9d7-551a846a5ae4"
   },
   "outputs": [
    {
     "data": {
      "text/plain": [
       "[('a', '1', 'a'),\n",
       " ('b', '2', 'b'),\n",
       " ('c', '3', 'c'),\n",
       " ('d', '4', 'd'),\n",
       " ('e', '', 'e')]"
      ]
     },
     "execution_count": 59,
     "metadata": {
      "tags": []
     },
     "output_type": "execute_result"
    }
   ],
   "source": [
    "list(zip(first, second, first))"
   ]
  },
  {
   "cell_type": "code",
   "execution_count": 61,
   "metadata": {
    "colab": {
     "base_uri": "https://localhost:8080/",
     "height": 550
    },
    "executionInfo": {
     "elapsed": 990,
     "status": "ok",
     "timestamp": 1601137755076,
     "user": {
      "displayName": "elevely",
      "photoUrl": "",
      "userId": "13360139414869837982"
     },
     "user_tz": -180
    },
    "id": "pU1pECP1Gw33",
    "outputId": "e9dcc5e2-4b6b-47b4-e43d-03cd3eaff257"
   },
   "outputs": [
    {
     "name": "stdout",
     "output_type": "stream",
     "text": [
      "0 ArithmeticError\n",
      "5 BrokenPipeError\n",
      "10 ConnectionError\n",
      "15 Ellipsis\n",
      "20 FileNotFoundError\n",
      "25 ImportError\n",
      "30 IsADirectoryError\n",
      "35 ModuleNotFoundError\n",
      "40 NotImplementedError\n",
      "45 ProcessLookupError\n",
      "50 RuntimeWarning\n",
      "55 SystemError\n",
      "60 TypeError\n",
      "65 UnicodeTranslateError\n",
      "70 ZeroDivisionError\n",
      "75 __import__\n",
      "80 abs\n",
      "85 bool\n",
      "90 classmethod\n",
      "95 delattr\n",
      "100 dreload\n",
      "105 float\n",
      "110 globals\n",
      "115 id\n",
      "120 iter\n",
      "125 map\n",
      "130 object\n",
      "135 print\n",
      "140 round\n",
      "145 staticmethod\n",
      "150 type\n"
     ]
    }
   ],
   "source": [
    "methods = dir(__builtin__)\n",
    "\n",
    "for num, method in enumerate(methods):\n",
    "    if num % 5 == 0:\n",
    "        print(num, method)"
   ]
  },
  {
   "cell_type": "code",
   "execution_count": 66,
   "metadata": {
    "colab": {
     "base_uri": "https://localhost:8080/",
     "height": 54
    },
    "executionInfo": {
     "elapsed": 1509,
     "status": "ok",
     "timestamp": 1601138021032,
     "user": {
      "displayName": "elevely",
      "photoUrl": "",
      "userId": "13360139414869837982"
     },
     "user_tz": -180
    },
    "id": "Uy3rxBbjQJNS",
    "outputId": "fbdd9ecd-133e-4fe5-80a1-d6575d7a34b9"
   },
   "outputs": [
    {
     "name": "stdout",
     "output_type": "stream",
     "text": [
      "[('a', 10000), ('b', 0), ('a', 10000)]\n"
     ]
    }
   ],
   "source": [
    "l = ['a', 'b', 'a']\n",
    "c = [0, 0, 0]\n",
    "\n",
    "for idx, person in enumerate(l):\n",
    "    if person == 'a':\n",
    "        c[idx] += 10000\n",
    "\n",
    "\n",
    "print(list(zip(l, c)))"
   ]
  },
  {
   "cell_type": "code",
   "execution_count": 62,
   "metadata": {
    "colab": {
     "base_uri": "https://localhost:8080/",
     "height": 54
    },
    "executionInfo": {
     "elapsed": 995,
     "status": "ok",
     "timestamp": 1601137834311,
     "user": {
      "displayName": "elevely",
      "photoUrl": "",
      "userId": "13360139414869837982"
     },
     "user_tz": -180
    },
    "id": "Ye3s-FKvGw34",
    "outputId": "0b1c4874-adf5-4817-b408-4847fce6b885"
   },
   "outputs": [
    {
     "data": {
      "text/plain": [
       "[(0, 'a'), (1, 'b'), (2, 'c'), (3, 'd'), (4, 'e'), (5, 'f'), (6, 'g')]"
      ]
     },
     "execution_count": 62,
     "metadata": {
      "tags": []
     },
     "output_type": "execute_result"
    }
   ],
   "source": [
    "enum = enumerate(first)\n",
    "list(enum)"
   ]
  },
  {
   "cell_type": "code",
   "execution_count": 69,
   "metadata": {
    "colab": {
     "base_uri": "https://localhost:8080/",
     "height": 71
    },
    "executionInfo": {
     "elapsed": 2225,
     "status": "ok",
     "timestamp": 1601138103898,
     "user": {
      "displayName": "elevely",
      "photoUrl": "",
      "userId": "13360139414869837982"
     },
     "user_tz": -180
    },
    "id": "9W4TJ9iOGw35",
    "outputId": "f6cd1c15-3dcb-4f07-c58d-ee42edfb9090"
   },
   "outputs": [
    {
     "name": "stdout",
     "output_type": "stream",
     "text": [
      "True\n"
     ]
    },
    {
     "data": {
      "text/plain": [
       "[]"
      ]
     },
     "execution_count": 69,
     "metadata": {
      "tags": []
     },
     "output_type": "execute_result"
    }
   ],
   "source": [
    "enum = enumerate(first)\n",
    "zip_style = zip(range(0, len(first)), first)\n",
    "\n",
    "print(list(enum) == list(zip_style))\n",
    "list(zip_style)"
   ]
  },
  {
   "cell_type": "markdown",
   "metadata": {
    "id": "ZPIwoJneGw37"
   },
   "source": [
    "---\n",
    "\n",
    "### Задание 3\n",
    "\n",
    "1. Создайте список `a`, состоящий из каких-то элементов.\n",
    "2. Создайте список `b` такого же размера, как `a`, состоящий из каких-то элементов.\n",
    "3. Выведите нумерованный список пар из элементов списков `a` и `b`."
   ]
  },
  {
   "cell_type": "code",
   "execution_count": null,
   "metadata": {
    "id": "rucloO5QGw37"
   },
   "outputs": [],
   "source": []
  },
  {
   "cell_type": "markdown",
   "metadata": {
    "id": "MJJxXLh2Gw37"
   },
   "source": [
    "---"
   ]
  },
  {
   "cell_type": "markdown",
   "metadata": {
    "id": "fXwUimADGw38"
   },
   "source": [
    "### list comprehensions"
   ]
  },
  {
   "cell_type": "code",
   "execution_count": 71,
   "metadata": {
    "colab": {
     "base_uri": "https://localhost:8080/",
     "height": 54
    },
    "executionInfo": {
     "elapsed": 3075,
     "status": "ok",
     "timestamp": 1601138180330,
     "user": {
      "displayName": "elevely",
      "photoUrl": "",
      "userId": "13360139414869837982"
     },
     "user_tz": -180
    },
    "id": "uE-JEDYpRWpr",
    "outputId": "0f0653b6-8647-4946-c4cb-728f993f22d9"
   },
   "outputs": [
    {
     "data": {
      "text/plain": [
       "[1, 2, 3, 4, 5]"
      ]
     },
     "execution_count": 71,
     "metadata": {
      "tags": []
     },
     "output_type": "execute_result"
    }
   ],
   "source": [
    "a = [1, 2, 3, 4, 5]\n",
    "a"
   ]
  },
  {
   "cell_type": "code",
   "execution_count": 72,
   "metadata": {
    "colab": {
     "base_uri": "https://localhost:8080/",
     "height": 54
    },
    "executionInfo": {
     "elapsed": 1245,
     "status": "ok",
     "timestamp": 1601138214318,
     "user": {
      "displayName": "elevely",
      "photoUrl": "",
      "userId": "13360139414869837982"
     },
     "user_tz": -180
    },
    "id": "CD07ruuWGw38",
    "outputId": "410a7f43-9339-41aa-812a-08a7c096010c"
   },
   "outputs": [
    {
     "data": {
      "text/plain": [
       "[1, 2, 3, 4, 5]"
      ]
     },
     "execution_count": 72,
     "metadata": {
      "tags": []
     },
     "output_type": "execute_result"
    }
   ],
   "source": [
    "a = [x for x in range(1, 6)]\n",
    "a"
   ]
  },
  {
   "cell_type": "code",
   "execution_count": 74,
   "metadata": {
    "executionInfo": {
     "elapsed": 1884,
     "status": "ok",
     "timestamp": 1601138262428,
     "user": {
      "displayName": "elevely",
      "photoUrl": "",
      "userId": "13360139414869837982"
     },
     "user_tz": -180
    },
    "id": "BUtpf0EGGw3-"
   },
   "outputs": [],
   "source": [
    "def f(x):\n",
    "    return x ** 2"
   ]
  },
  {
   "cell_type": "code",
   "execution_count": 75,
   "metadata": {
    "colab": {
     "base_uri": "https://localhost:8080/",
     "height": 54
    },
    "executionInfo": {
     "elapsed": 1957,
     "status": "ok",
     "timestamp": 1601138265414,
     "user": {
      "displayName": "elevely",
      "photoUrl": "",
      "userId": "13360139414869837982"
     },
     "user_tz": -180
    },
    "id": "LLz_Z3yTGw4B",
    "outputId": "a1dccc5a-72c5-4b5f-e041-0e403549ac0b"
   },
   "outputs": [
    {
     "name": "stdout",
     "output_type": "stream",
     "text": [
      "[1, 4, 9, 16, 25, 36, 49, 64, 81] == [1, 4, 9, 16, 25, 36, 49, 64, 81]\n"
     ]
    }
   ],
   "source": [
    "b = [f(x) for x in range(1, 10)]\n",
    "c = [x ** 2 for x in range(1, 10)]\n",
    "print(b, '==', c)"
   ]
  },
  {
   "cell_type": "code",
   "execution_count": 76,
   "metadata": {
    "colab": {
     "base_uri": "https://localhost:8080/",
     "height": 54
    },
    "executionInfo": {
     "elapsed": 1452,
     "status": "ok",
     "timestamp": 1601138326053,
     "user": {
      "displayName": "elevely",
      "photoUrl": "",
      "userId": "13360139414869837982"
     },
     "user_tz": -180
    },
    "id": "Y-PG0lZyGw4C",
    "outputId": "2b9ab251-9f01-4ec3-94b7-15cd5406dce6"
   },
   "outputs": [
    {
     "data": {
      "text/plain": [
       "['a', '*', '*', '*', 'e']"
      ]
     },
     "execution_count": 76,
     "metadata": {
      "tags": []
     },
     "output_type": "execute_result"
    }
   ],
   "source": [
    "[x if x in 'aeiou' else '*' for x in 'apple']"
   ]
  },
  {
   "cell_type": "code",
   "execution_count": 77,
   "metadata": {
    "colab": {
     "base_uri": "https://localhost:8080/",
     "height": 54
    },
    "executionInfo": {
     "elapsed": 798,
     "status": "ok",
     "timestamp": 1601138346899,
     "user": {
      "displayName": "elevely",
      "photoUrl": "",
      "userId": "13360139414869837982"
     },
     "user_tz": -180
    },
    "id": "pxaLFok8Gw4E",
    "outputId": "999343ea-673c-45e0-9776-d9f954fb989e"
   },
   "outputs": [
    {
     "data": {
      "text/plain": [
       "['0', '1', '1', '2', '2', '3']"
      ]
     },
     "execution_count": 77,
     "metadata": {
      "tags": []
     },
     "output_type": "execute_result"
    }
   ],
   "source": [
    "def foo(i):\n",
    "    return i, i + 1\n",
    "\n",
    "l = []\n",
    "for i in range(3):\n",
    "    for x in foo(i):\n",
    "        l.append(str(x))\n",
    "        \n",
    "l"
   ]
  },
  {
   "cell_type": "code",
   "execution_count": 78,
   "metadata": {
    "colab": {
     "base_uri": "https://localhost:8080/",
     "height": 54
    },
    "executionInfo": {
     "elapsed": 647,
     "status": "ok",
     "timestamp": 1601138464834,
     "user": {
      "displayName": "elevely",
      "photoUrl": "",
      "userId": "13360139414869837982"
     },
     "user_tz": -180
    },
    "id": "4VIKA8NHGw4G",
    "outputId": "bbe6526b-9416-45c6-e813-716a1b307067"
   },
   "outputs": [
    {
     "data": {
      "text/plain": [
       "['0', '1', '1', '2', '2', '3']"
      ]
     },
     "execution_count": 78,
     "metadata": {
      "tags": []
     },
     "output_type": "execute_result"
    }
   ],
   "source": [
    "l = [str(x) for i in range(3) for x in foo(i)]\n",
    "l"
   ]
  },
  {
   "cell_type": "markdown",
   "metadata": {
    "id": "u6xV9d3WGw4I"
   },
   "source": [
    "---"
   ]
  },
  {
   "cell_type": "markdown",
   "metadata": {
    "id": "obbVEyk5Gw4I"
   },
   "source": [
    "### Задание 4"
   ]
  },
  {
   "cell_type": "markdown",
   "metadata": {
    "id": "Px2HOqD9Gw4J"
   },
   "source": [
    "*Выведите* список из 100 чисел *через запятую*. **Чистыми циклами пользоваться нельзя.** (list comprehensions можно)"
   ]
  },
  {
   "cell_type": "code",
   "execution_count": null,
   "metadata": {
    "id": "fN5BeHS3Gw4J"
   },
   "outputs": [],
   "source": []
  },
  {
   "cell_type": "markdown",
   "metadata": {
    "id": "F9iEYYVWGw4K"
   },
   "source": [
    "---"
   ]
  },
  {
   "cell_type": "markdown",
   "metadata": {
    "id": "354ivCzAGw4L"
   },
   "source": [
    "### functions, lambdas"
   ]
  },
  {
   "cell_type": "markdown",
   "metadata": {
    "id": "gOPbxDezjW5B"
   },
   "source": [
    "* function:"
   ]
  },
  {
   "cell_type": "code",
   "execution_count": 85,
   "metadata": {
    "executionInfo": {
     "elapsed": 987,
     "status": "ok",
     "timestamp": 1601138728351,
     "user": {
      "displayName": "elevely",
      "photoUrl": "",
      "userId": "13360139414869837982"
     },
     "user_tz": -180
    },
    "id": "wppdwV3AGw4L"
   },
   "outputs": [],
   "source": [
    "def make_coffee(size, sugar_dose=3, **kwargs):\n",
    "\n",
    "    if sugar_dose > 5:\n",
    "        return 'Too much sugar! Be careful! :('\n",
    "    else:\n",
    "        return 'Done: cup of {0} ml size; amount of sugar = {1}'.format(size, sugar_dose)"
   ]
  },
  {
   "cell_type": "code",
   "execution_count": 80,
   "metadata": {
    "colab": {
     "base_uri": "https://localhost:8080/",
     "height": 58
    },
    "executionInfo": {
     "elapsed": 658,
     "status": "ok",
     "timestamp": 1601138596367,
     "user": {
      "displayName": "elevely",
      "photoUrl": "",
      "userId": "13360139414869837982"
     },
     "user_tz": -180
    },
    "id": "inDy5yYCGw4M",
    "outputId": "5bc214ff-b327-4286-df87-0a0be7304003"
   },
   "outputs": [
    {
     "data": {
      "application/vnd.google.colaboratory.intrinsic+json": {
       "type": "string"
      },
      "text/plain": [
       "'Done: cup of 100 ml size; amount of sugar = 3'"
      ]
     },
     "execution_count": 80,
     "metadata": {
      "tags": []
     },
     "output_type": "execute_result"
    }
   ],
   "source": [
    "make_coffee(100)"
   ]
  },
  {
   "cell_type": "code",
   "execution_count": 82,
   "metadata": {
    "colab": {
     "base_uri": "https://localhost:8080/",
     "height": 58
    },
    "executionInfo": {
     "elapsed": 864,
     "status": "ok",
     "timestamp": 1601138682543,
     "user": {
      "displayName": "elevely",
      "photoUrl": "",
      "userId": "13360139414869837982"
     },
     "user_tz": -180
    },
    "id": "bFMvn-vrGw4O",
    "outputId": "985cf800-efa8-4caa-d139-2820c68f6789"
   },
   "outputs": [
    {
     "data": {
      "application/vnd.google.colaboratory.intrinsic+json": {
       "type": "string"
      },
      "text/plain": [
       "'Done: cup of 200 ml size; amount of sugar = 1'"
      ]
     },
     "execution_count": 82,
     "metadata": {
      "tags": []
     },
     "output_type": "execute_result"
    }
   ],
   "source": [
    "make_coffee(200, 1)"
   ]
  },
  {
   "cell_type": "code",
   "execution_count": 83,
   "metadata": {
    "colab": {
     "base_uri": "https://localhost:8080/",
     "height": 58
    },
    "executionInfo": {
     "elapsed": 568,
     "status": "ok",
     "timestamp": 1601138683003,
     "user": {
      "displayName": "elevely",
      "photoUrl": "",
      "userId": "13360139414869837982"
     },
     "user_tz": -180
    },
    "id": "zoc4wDmAGw4R",
    "outputId": "fa686616-2faa-417e-b218-7f456fef73e0"
   },
   "outputs": [
    {
     "data": {
      "application/vnd.google.colaboratory.intrinsic+json": {
       "type": "string"
      },
      "text/plain": [
       "'Too much sugar! Be careful! :('"
      ]
     },
     "execution_count": 83,
     "metadata": {
      "tags": []
     },
     "output_type": "execute_result"
    }
   ],
   "source": [
    "make_coffee(100, 6)"
   ]
  },
  {
   "cell_type": "code",
   "execution_count": 87,
   "metadata": {
    "colab": {
     "base_uri": "https://localhost:8080/",
     "height": 54
    },
    "executionInfo": {
     "elapsed": 864,
     "status": "ok",
     "timestamp": 1601138805440,
     "user": {
      "displayName": "elevely",
      "photoUrl": "",
      "userId": "13360139414869837982"
     },
     "user_tz": -180
    },
    "id": "aEGTrREgTw9x",
    "outputId": "cca29244-0c73-40b1-a120-ecce24648682"
   },
   "outputs": [
    {
     "data": {
      "text/plain": [
       "['asda', 'asdasd', 'asdasff']"
      ]
     },
     "execution_count": 87,
     "metadata": {
      "tags": []
     },
     "output_type": "execute_result"
    }
   ],
   "source": []
  },
  {
   "cell_type": "code",
   "execution_count": 86,
   "metadata": {
    "colab": {
     "base_uri": "https://localhost:8080/",
     "height": 74
    },
    "executionInfo": {
     "elapsed": 938,
     "status": "ok",
     "timestamp": 1601138733047,
     "user": {
      "displayName": "elevely",
      "photoUrl": "",
      "userId": "13360139414869837982"
     },
     "user_tz": -180
    },
    "id": "1esIuPDaGw4S",
    "outputId": "eddf44a3-97ed-416b-9972-1c2abb55ede0"
   },
   "outputs": [
    {
     "name": "stdout",
     "output_type": "stream",
     "text": [
      "Ilya\n"
     ]
    },
    {
     "data": {
      "application/vnd.google.colaboratory.intrinsic+json": {
       "type": "string"
      },
      "text/plain": [
       "'Done: cup of 120 ml size; amount of sugar = 5'"
      ]
     },
     "execution_count": 86,
     "metadata": {
      "tags": []
     },
     "output_type": "execute_result"
    }
   ],
   "source": [
    "make_coffee(120, 5, name='Ilya', gender='male')  # kwargs"
   ]
  },
  {
   "cell_type": "markdown",
   "metadata": {
    "id": "kGIyyMeCjW5E"
   },
   "source": [
    "* lambda:"
   ]
  },
  {
   "cell_type": "code",
   "execution_count": 88,
   "metadata": {
    "colab": {
     "base_uri": "https://localhost:8080/",
     "height": 54
    },
    "executionInfo": {
     "elapsed": 1100,
     "status": "ok",
     "timestamp": 1601138877164,
     "user": {
      "displayName": "elevely",
      "photoUrl": "",
      "userId": "13360139414869837982"
     },
     "user_tz": -180
    },
    "id": "6RBIMsgNGw4U",
    "outputId": "ac4e9c71-8574-4108-a542-ae1c0ee74670"
   },
   "outputs": [
    {
     "name": "stdout",
     "output_type": "stream",
     "text": [
      "-5\n"
     ]
    }
   ],
   "source": [
    "negation = lambda x: -x\n",
    "a = 5\n",
    "print(negation(a))"
   ]
  },
  {
   "cell_type": "markdown",
   "metadata": {
    "id": "HK1TYlFQGw4V"
   },
   "source": [
    "### map, reduce, filter"
   ]
  },
  {
   "cell_type": "markdown",
   "metadata": {
    "id": "w8Vi6DG3Gw4W"
   },
   "source": [
    "* `map(func, iterables)` - выполняет преобразование func над элементами iterables и возвращает **новый** `iterable`:"
   ]
  },
  {
   "cell_type": "code",
   "execution_count": 90,
   "metadata": {
    "executionInfo": {
     "elapsed": 2978,
     "status": "ok",
     "timestamp": 1601138949775,
     "user": {
      "displayName": "elevely",
      "photoUrl": "",
      "userId": "13360139414869837982"
     },
     "user_tz": -180
    },
    "id": "FXvofaljGw4W"
   },
   "outputs": [],
   "source": [
    "words = dir(list)"
   ]
  },
  {
   "cell_type": "code",
   "execution_count": 91,
   "metadata": {
    "colab": {
     "base_uri": "https://localhost:8080/",
     "height": 87
    },
    "executionInfo": {
     "elapsed": 1468,
     "status": "ok",
     "timestamp": 1601138949775,
     "user": {
      "displayName": "elevely",
      "photoUrl": "",
      "userId": "13360139414869837982"
     },
     "user_tz": -180
    },
    "id": "ngRHxS_1Gw4X",
    "outputId": "782ad752-7a64-41c6-917d-4c5ee030b17b"
   },
   "outputs": [
    {
     "name": "stdout",
     "output_type": "stream",
     "text": [
      "[7, 9, 12, 11, 11, 7, 7, 6, 10, 6, 16, 11, 6, 8, 8, 8, 8, 17, 8, 6, 7, 6, 7, 6, 7, 10, 13, 8, 12, 8, 11, 11, 10, 7, 16, 6, 5, 4, 5, 6, 5, 6, 3, 6, 7, 4]\n",
      "\n",
      "['__add__', '__class__', '__contains__', '__delattr__', '__delitem__', '__dir__', '__doc__', '__eq__', '__format__', '__ge__', '__getattribute__', '__getitem__', '__gt__', '__hash__', '__iadd__', '__imul__', '__init__', '__init_subclass__', '__iter__', '__le__', '__len__', '__lt__', '__mul__', '__ne__', '__new__', '__reduce__', '__reduce_ex__', '__repr__', '__reversed__', '__rmul__', '__setattr__', '__setitem__', '__sizeof__', '__str__', '__subclasshook__', 'append', 'clear', 'copy', 'count', 'extend', 'index', 'insert', 'pop', 'remove', 'reverse', 'sort']\n"
     ]
    }
   ],
   "source": [
    "letter_counts = list(map(lambda x: len(x), words))\n",
    "\n",
    "print(letter_counts)\n",
    "print()\n",
    "print(words)"
   ]
  },
  {
   "cell_type": "code",
   "execution_count": 92,
   "metadata": {
    "colab": {
     "base_uri": "https://localhost:8080/",
     "height": 54
    },
    "executionInfo": {
     "elapsed": 800,
     "status": "ok",
     "timestamp": 1601138952921,
     "user": {
      "displayName": "elevely",
      "photoUrl": "",
      "userId": "13360139414869837982"
     },
     "user_tz": -180
    },
    "id": "OgT1pUomGw4X",
    "outputId": "c6584ad6-a3e2-40aa-9201-34dbe58b4c98"
   },
   "outputs": [
    {
     "name": "stdout",
     "output_type": "stream",
     "text": [
      "[113, 116, 119]\n"
     ]
    }
   ],
   "source": [
    "l1 = [1,2,3,4]\n",
    "l2 = [11, 12, 13, 14, 15]\n",
    "l3 = [101, 102, 103]\n",
    "\n",
    "triple_sum = list(map(lambda x, y, z: x + y + z, l1, l2, l3))\n",
    "print(triple_sum)"
   ]
  },
  {
   "cell_type": "markdown",
   "metadata": {
    "id": "l3yvma4DGw4Y"
   },
   "source": [
    "* `reduce(func, iterables)` - производит вычисление с элементами последовательности, результатом которого является **одно значение**:"
   ]
  },
  {
   "cell_type": "code",
   "execution_count": 93,
   "metadata": {
    "executionInfo": {
     "elapsed": 3949,
     "status": "ok",
     "timestamp": 1601138971613,
     "user": {
      "displayName": "elevely",
      "photoUrl": "",
      "userId": "13360139414869837982"
     },
     "user_tz": -180
    },
    "id": "Ti1K4bsGGw4Y"
   },
   "outputs": [],
   "source": [
    "from functools import reduce"
   ]
  },
  {
   "cell_type": "code",
   "execution_count": 94,
   "metadata": {
    "colab": {
     "base_uri": "https://localhost:8080/",
     "height": 54
    },
    "executionInfo": {
     "elapsed": 3180,
     "status": "ok",
     "timestamp": 1601138971613,
     "user": {
      "displayName": "elevely",
      "photoUrl": "",
      "userId": "13360139414869837982"
     },
     "user_tz": -180
    },
    "id": "DlX_nviwGw4a",
    "outputId": "a6844378-83c9-4351-a4ca-fef19d5907de"
   },
   "outputs": [
    {
     "name": "stdout",
     "output_type": "stream",
     "text": [
      "378\n"
     ]
    }
   ],
   "source": [
    "sum_of_counts = reduce(lambda x, y: x + y, letter_counts)\n",
    "print(sum_of_counts)"
   ]
  },
  {
   "cell_type": "markdown",
   "metadata": {
    "id": "8nIyNHN1Gw4b"
   },
   "source": [
    "* `filter(predicate, iterable)` - оставляет только те элементы, для которых **верен** предикат (функция, возвращающая bool):"
   ]
  },
  {
   "cell_type": "code",
   "execution_count": 95,
   "metadata": {
    "colab": {
     "base_uri": "https://localhost:8080/",
     "height": 54
    },
    "executionInfo": {
     "elapsed": 1311,
     "status": "ok",
     "timestamp": 1601138971614,
     "user": {
      "displayName": "elevely",
      "photoUrl": "",
      "userId": "13360139414869837982"
     },
     "user_tz": -180
    },
    "id": "LfIPgcNgGw4b",
    "outputId": "9a2ec2c7-5441-40bf-fe26-9ad78b6911f6"
   },
   "outputs": [
    {
     "name": "stdout",
     "output_type": "stream",
     "text": [
      "['мак', 'мак', 'мак', 'мак', 'мак']\n"
     ]
    }
   ],
   "source": [
    "mixed = ['мак', 'просо', 'мак', 'мак', 'просо', 'мак', 'просо', 'просо', 'просо', 'мак']\n",
    "only_mac = list(filter(lambda x: x == 'мак', mixed))\n",
    "print(only_mac)"
   ]
  },
  {
   "cell_type": "markdown",
   "metadata": {
    "id": "g3cWsZwOGw4e"
   },
   "source": [
    "---"
   ]
  },
  {
   "cell_type": "markdown",
   "metadata": {
    "id": "uugRKJebGw4e"
   },
   "source": [
    "### Задание 5\n",
    "\n",
    "1. Дан массив строк: `['agfkd.,f', 'Qksdf;sb&..', 'asdoo*', 'bgf...d', 're54()kj[]].'] `\n",
    "2. Создайте список, состоящий из количества точек в каждой строке. Выведите его\n",
    "3. Создайте новый список, в котором будут **только строки, в которых более 2-х точек**. Выведите его  \n",
    "\n",
    "Циклами пользоваться нельзя."
   ]
  },
  {
   "cell_type": "code",
   "execution_count": 95,
   "metadata": {
    "executionInfo": {
     "elapsed": 507,
     "status": "ok",
     "timestamp": 1601138974264,
     "user": {
      "displayName": "elevely",
      "photoUrl": "",
      "userId": "13360139414869837982"
     },
     "user_tz": -180
    },
    "id": "3noLimKfGw4e"
   },
   "outputs": [],
   "source": []
  },
  {
   "cell_type": "markdown",
   "metadata": {
    "id": "oqHHZkqkGw4f"
   },
   "source": [
    "---"
   ]
  },
  {
   "cell_type": "markdown",
   "metadata": {
    "id": "8f3c96Y3Gw4f"
   },
   "source": [
    "### set"
   ]
  },
  {
   "cell_type": "code",
   "execution_count": 96,
   "metadata": {
    "colab": {
     "base_uri": "https://localhost:8080/",
     "height": 54
    },
    "executionInfo": {
     "elapsed": 1773,
     "status": "ok",
     "timestamp": 1601138994248,
     "user": {
      "displayName": "elevely",
      "photoUrl": "",
      "userId": "13360139414869837982"
     },
     "user_tz": -180
    },
    "id": "7FsYEdL-Gw4f",
    "outputId": "89a23304-bfe4-4bff-eaa6-90c64e18d59c"
   },
   "outputs": [
    {
     "data": {
      "text/plain": [
       "set()"
      ]
     },
     "execution_count": 96,
     "metadata": {
      "tags": []
     },
     "output_type": "execute_result"
    }
   ],
   "source": [
    "s = set()\n",
    "s"
   ]
  },
  {
   "cell_type": "code",
   "execution_count": 97,
   "metadata": {
    "colab": {
     "base_uri": "https://localhost:8080/",
     "height": 946
    },
    "executionInfo": {
     "elapsed": 2040,
     "status": "ok",
     "timestamp": 1601138998463,
     "user": {
      "displayName": "elevely",
      "photoUrl": "",
      "userId": "13360139414869837982"
     },
     "user_tz": -180
    },
    "id": "P4VHzWWcGw4j",
    "outputId": "c710688e-a169-4d43-dae8-a7826ee93b42"
   },
   "outputs": [
    {
     "data": {
      "text/plain": [
       "['__and__',\n",
       " '__class__',\n",
       " '__contains__',\n",
       " '__delattr__',\n",
       " '__dir__',\n",
       " '__doc__',\n",
       " '__eq__',\n",
       " '__format__',\n",
       " '__ge__',\n",
       " '__getattribute__',\n",
       " '__gt__',\n",
       " '__hash__',\n",
       " '__iand__',\n",
       " '__init__',\n",
       " '__init_subclass__',\n",
       " '__ior__',\n",
       " '__isub__',\n",
       " '__iter__',\n",
       " '__ixor__',\n",
       " '__le__',\n",
       " '__len__',\n",
       " '__lt__',\n",
       " '__ne__',\n",
       " '__new__',\n",
       " '__or__',\n",
       " '__rand__',\n",
       " '__reduce__',\n",
       " '__reduce_ex__',\n",
       " '__repr__',\n",
       " '__ror__',\n",
       " '__rsub__',\n",
       " '__rxor__',\n",
       " '__setattr__',\n",
       " '__sizeof__',\n",
       " '__str__',\n",
       " '__sub__',\n",
       " '__subclasshook__',\n",
       " '__xor__',\n",
       " 'add',\n",
       " 'clear',\n",
       " 'copy',\n",
       " 'difference',\n",
       " 'difference_update',\n",
       " 'discard',\n",
       " 'intersection',\n",
       " 'intersection_update',\n",
       " 'isdisjoint',\n",
       " 'issubset',\n",
       " 'issuperset',\n",
       " 'pop',\n",
       " 'remove',\n",
       " 'symmetric_difference',\n",
       " 'symmetric_difference_update',\n",
       " 'union',\n",
       " 'update']"
      ]
     },
     "execution_count": 97,
     "metadata": {
      "tags": []
     },
     "output_type": "execute_result"
    }
   ],
   "source": [
    "dir(s)"
   ]
  },
  {
   "cell_type": "code",
   "execution_count": 98,
   "metadata": {
    "colab": {
     "base_uri": "https://localhost:8080/",
     "height": 54
    },
    "executionInfo": {
     "elapsed": 724,
     "status": "ok",
     "timestamp": 1601139004681,
     "user": {
      "displayName": "elevely",
      "photoUrl": "",
      "userId": "13360139414869837982"
     },
     "user_tz": -180
    },
    "id": "nZ7OwvJoGw4m",
    "outputId": "300a3375-0f20-458e-ce71-7fddca1d4c0a"
   },
   "outputs": [
    {
     "name": "stdout",
     "output_type": "stream",
     "text": [
      "{None, 1, 'bullet', 'a'}\n"
     ]
    }
   ],
   "source": [
    "s.add(1)\n",
    "s.add('a')\n",
    "s.add(None)\n",
    "s.add('bullet')\n",
    "print(s)"
   ]
  },
  {
   "cell_type": "code",
   "execution_count": 99,
   "metadata": {
    "executionInfo": {
     "elapsed": 1356,
     "status": "ok",
     "timestamp": 1601139028879,
     "user": {
      "displayName": "elevely",
      "photoUrl": "",
      "userId": "13360139414869837982"
     },
     "user_tz": -180
    },
    "id": "xuSORJBVGw4n"
   },
   "outputs": [],
   "source": [
    "s1 = set(range(0, 10))\n",
    "s2 = set(range(5, 15))"
   ]
  },
  {
   "cell_type": "code",
   "execution_count": 100,
   "metadata": {
    "colab": {
     "base_uri": "https://localhost:8080/",
     "height": 87
    },
    "executionInfo": {
     "elapsed": 1135,
     "status": "ok",
     "timestamp": 1601139031160,
     "user": {
      "displayName": "elevely",
      "photoUrl": "",
      "userId": "13360139414869837982"
     },
     "user_tz": -180
    },
    "id": "XHt0SFi3Gw4o",
    "outputId": "c6e38d47-2bc5-4b8b-ca97-e5c214f7cb2a"
   },
   "outputs": [
    {
     "name": "stdout",
     "output_type": "stream",
     "text": [
      "{0, 1, 2, 3, 4}\n",
      "\n",
      "{10, 11, 12, 13, 14}\n"
     ]
    }
   ],
   "source": [
    "print(s1.difference(s2))\n",
    "print()\n",
    "print(s2.difference(s1))"
   ]
  },
  {
   "cell_type": "code",
   "execution_count": null,
   "metadata": {
    "id": "tx1o8_2kGw4p"
   },
   "outputs": [],
   "source": [
    "s1.intersection(s2)"
   ]
  },
  {
   "cell_type": "code",
   "execution_count": null,
   "metadata": {
    "id": "SgxbKT7KGw4p"
   },
   "outputs": [],
   "source": [
    "s1.union(s2)"
   ]
  },
  {
   "cell_type": "code",
   "execution_count": null,
   "metadata": {
    "id": "CtzRiAgAGw4q"
   },
   "outputs": [],
   "source": [
    "print('s1: ', s1, '\\ns2: ', s2)"
   ]
  },
  {
   "cell_type": "markdown",
   "metadata": {
    "id": "i0xyAzGiGw4s"
   },
   "source": [
    "### dict"
   ]
  },
  {
   "cell_type": "code",
   "execution_count": 101,
   "metadata": {
    "colab": {
     "base_uri": "https://localhost:8080/",
     "height": 54
    },
    "executionInfo": {
     "elapsed": 1097,
     "status": "ok",
     "timestamp": 1601139102968,
     "user": {
      "displayName": "elevely",
      "photoUrl": "",
      "userId": "13360139414869837982"
     },
     "user_tz": -180
    },
    "id": "8mGEtp7BGw4s",
    "outputId": "09daddb4-8aab-4a98-e878-f61c4e158476"
   },
   "outputs": [
    {
     "name": "stdout",
     "output_type": "stream",
     "text": [
      "True | <class 'dict'>\n"
     ]
    }
   ],
   "source": [
    "d = {}\n",
    "dd = dict()\n",
    "\n",
    "print(d == dd, '|', type(d))"
   ]
  },
  {
   "cell_type": "code",
   "execution_count": 102,
   "metadata": {
    "colab": {
     "base_uri": "https://localhost:8080/",
     "height": 699
    },
    "executionInfo": {
     "elapsed": 939,
     "status": "ok",
     "timestamp": 1601139115801,
     "user": {
      "displayName": "elevely",
      "photoUrl": "",
      "userId": "13360139414869837982"
     },
     "user_tz": -180
    },
    "id": "b-dGPNI6Gw4t",
    "outputId": "25291478-f050-4ad5-9c05-2fe287169e6d"
   },
   "outputs": [
    {
     "data": {
      "text/plain": [
       "['__class__',\n",
       " '__contains__',\n",
       " '__delattr__',\n",
       " '__delitem__',\n",
       " '__dir__',\n",
       " '__doc__',\n",
       " '__eq__',\n",
       " '__format__',\n",
       " '__ge__',\n",
       " '__getattribute__',\n",
       " '__getitem__',\n",
       " '__gt__',\n",
       " '__hash__',\n",
       " '__init__',\n",
       " '__init_subclass__',\n",
       " '__iter__',\n",
       " '__le__',\n",
       " '__len__',\n",
       " '__lt__',\n",
       " '__ne__',\n",
       " '__new__',\n",
       " '__reduce__',\n",
       " '__reduce_ex__',\n",
       " '__repr__',\n",
       " '__setattr__',\n",
       " '__setitem__',\n",
       " '__sizeof__',\n",
       " '__str__',\n",
       " '__subclasshook__',\n",
       " 'clear',\n",
       " 'copy',\n",
       " 'fromkeys',\n",
       " 'get',\n",
       " 'items',\n",
       " 'keys',\n",
       " 'pop',\n",
       " 'popitem',\n",
       " 'setdefault',\n",
       " 'update',\n",
       " 'values']"
      ]
     },
     "execution_count": 102,
     "metadata": {
      "tags": []
     },
     "output_type": "execute_result"
    }
   ],
   "source": [
    "dir(dict)"
   ]
  },
  {
   "cell_type": "code",
   "execution_count": 105,
   "metadata": {
    "colab": {
     "base_uri": "https://localhost:8080/",
     "height": 54
    },
    "executionInfo": {
     "elapsed": 860,
     "status": "ok",
     "timestamp": 1601139220507,
     "user": {
      "displayName": "elevely",
      "photoUrl": "",
      "userId": "13360139414869837982"
     },
     "user_tz": -180
    },
    "id": "Tasup1rwGw4w",
    "outputId": "7f0ffd2f-9aba-4314-f4c0-153c094fed46"
   },
   "outputs": [
    {
     "data": {
      "text/plain": [
       "{'a': 100}"
      ]
     },
     "execution_count": 105,
     "metadata": {
      "tags": []
     },
     "output_type": "execute_result"
    }
   ],
   "source": [
    "d['a'] = 100\n",
    "d"
   ]
  },
  {
   "cell_type": "code",
   "execution_count": 106,
   "metadata": {
    "colab": {
     "base_uri": "https://localhost:8080/",
     "height": 54
    },
    "executionInfo": {
     "elapsed": 1112,
     "status": "ok",
     "timestamp": 1601139231003,
     "user": {
      "displayName": "elevely",
      "photoUrl": "",
      "userId": "13360139414869837982"
     },
     "user_tz": -180
    },
    "id": "V4PNtLrtGw4y",
    "outputId": "7f5a2ed8-33c3-422d-d8cb-30a33600ad1a"
   },
   "outputs": [
    {
     "data": {
      "text/plain": [
       "{'long': 'dictionary', 'short': 'dict'}"
      ]
     },
     "execution_count": 106,
     "metadata": {
      "tags": []
     },
     "output_type": "execute_result"
    }
   ],
   "source": [
    "d = dict(short='dict', long='dictionary')\n",
    "d"
   ]
  },
  {
   "cell_type": "code",
   "execution_count": 107,
   "metadata": {
    "colab": {
     "base_uri": "https://localhost:8080/",
     "height": 54
    },
    "executionInfo": {
     "elapsed": 873,
     "status": "ok",
     "timestamp": 1601139247434,
     "user": {
      "displayName": "elevely",
      "photoUrl": "",
      "userId": "13360139414869837982"
     },
     "user_tz": -180
    },
    "id": "SiejuQPWGw41",
    "outputId": "c69cae23-2a39-481e-9434-c41abe34c7e9"
   },
   "outputs": [
    {
     "data": {
      "text/plain": [
       "{1: 1, 2: 4}"
      ]
     },
     "execution_count": 107,
     "metadata": {
      "tags": []
     },
     "output_type": "execute_result"
    }
   ],
   "source": [
    "d = dict([(1, 1), (2, 4)])\n",
    "d"
   ]
  },
  {
   "cell_type": "code",
   "execution_count": 108,
   "metadata": {
    "colab": {
     "base_uri": "https://localhost:8080/",
     "height": 54
    },
    "executionInfo": {
     "elapsed": 577,
     "status": "ok",
     "timestamp": 1601139247435,
     "user": {
      "displayName": "elevely",
      "photoUrl": "",
      "userId": "13360139414869837982"
     },
     "user_tz": -180
    },
    "id": "hKzBkSEPGw44",
    "outputId": "c6ec2847-17f5-49cc-e171-667fbaed8d72"
   },
   "outputs": [
    {
     "data": {
      "text/plain": [
       "{'a': None, 'b': None}"
      ]
     },
     "execution_count": 108,
     "metadata": {
      "tags": []
     },
     "output_type": "execute_result"
    }
   ],
   "source": [
    "d = dict.fromkeys(['a', 'b'])\n",
    "d"
   ]
  },
  {
   "cell_type": "code",
   "execution_count": null,
   "metadata": {
    "id": "ul5ln-nHGw46"
   },
   "outputs": [],
   "source": [
    "d = dict.fromkeys(['a', 'b'], 100)\n",
    "d"
   ]
  },
  {
   "cell_type": "markdown",
   "metadata": {
    "id": "YwySNULzGw4_"
   },
   "source": [
    "**dict comprehensions**"
   ]
  },
  {
   "cell_type": "code",
   "execution_count": 110,
   "metadata": {
    "colab": {
     "base_uri": "https://localhost:8080/",
     "height": 54
    },
    "executionInfo": {
     "elapsed": 975,
     "status": "ok",
     "timestamp": 1601139294148,
     "user": {
      "displayName": "elevely",
      "photoUrl": "",
      "userId": "13360139414869837982"
     },
     "user_tz": -180
    },
    "id": "WYE28ZQcGw4_",
    "outputId": "0de95cd0-87fe-4669-bca6-9e7fba031cc6"
   },
   "outputs": [
    {
     "data": {
      "text/plain": [
       "{0: 0, 1: 1, 4: 2, 9: 3, 16: 4, 25: 5, 36: 6}"
      ]
     },
     "execution_count": 110,
     "metadata": {
      "tags": []
     },
     "output_type": "execute_result"
    }
   ],
   "source": [
    "d = {a ** 2: a for a in range(7)}\n",
    "d"
   ]
  },
  {
   "cell_type": "markdown",
   "metadata": {
    "id": "79dYvUBLGw5A"
   },
   "source": [
    "### !"
   ]
  },
  {
   "cell_type": "markdown",
   "metadata": {
    "id": "BacZFsy-Gw5A"
   },
   "source": [
    "Будьте осторожны, если ключа, по которому поступил запрос, нет в словаре, то выбросит исключение:"
   ]
  },
  {
   "cell_type": "code",
   "execution_count": 111,
   "metadata": {
    "colab": {
     "base_uri": "https://localhost:8080/",
     "height": 199
    },
    "executionInfo": {
     "elapsed": 763,
     "status": "error",
     "timestamp": 1601139307569,
     "user": {
      "displayName": "elevely",
      "photoUrl": "",
      "userId": "13360139414869837982"
     },
     "user_tz": -180
    },
    "id": "m9Z8UVuHGw5A",
    "outputId": "b1b57965-9c3a-4709-9f62-7243751bba16"
   },
   "outputs": [
    {
     "ename": "KeyError",
     "evalue": "ignored",
     "output_type": "error",
     "traceback": [
      "\u001b[0;31m---------------------------------------------------------------------------\u001b[0m",
      "\u001b[0;31mKeyError\u001b[0m                                  Traceback (most recent call last)",
      "\u001b[0;32m<ipython-input-111-c3e9e00fc198>\u001b[0m in \u001b[0;36m<module>\u001b[0;34m()\u001b[0m\n\u001b[1;32m      1\u001b[0m \u001b[0md\u001b[0m \u001b[0;34m=\u001b[0m \u001b[0;34m{\u001b[0m\u001b[0;36m1\u001b[0m\u001b[0;34m:\u001b[0m \u001b[0;36m100\u001b[0m\u001b[0;34m,\u001b[0m \u001b[0;36m2\u001b[0m\u001b[0;34m:\u001b[0m \u001b[0;36m200\u001b[0m\u001b[0;34m,\u001b[0m \u001b[0;36m3\u001b[0m\u001b[0;34m:\u001b[0m \u001b[0;36m300\u001b[0m\u001b[0;34m}\u001b[0m\u001b[0;34m\u001b[0m\u001b[0;34m\u001b[0m\u001b[0m\n\u001b[0;32m----> 2\u001b[0;31m \u001b[0md\u001b[0m\u001b[0;34m[\u001b[0m\u001b[0;34m'a'\u001b[0m\u001b[0;34m]\u001b[0m\u001b[0;34m\u001b[0m\u001b[0;34m\u001b[0m\u001b[0m\n\u001b[0m",
      "\u001b[0;31mKeyError\u001b[0m: 'a'"
     ]
    }
   ],
   "source": [
    "d = {1: 100, 2: 200, 3: 300}\n",
    "d['a']"
   ]
  },
  {
   "cell_type": "markdown",
   "metadata": {
    "id": "ldTDId4IGw5B"
   },
   "source": [
    "Поэтому безопаснее использовать **get(key)**. Тогда, если нужно, можно проверить на **None**. "
   ]
  },
  {
   "cell_type": "code",
   "execution_count": 112,
   "metadata": {
    "colab": {
     "base_uri": "https://localhost:8080/",
     "height": 54
    },
    "executionInfo": {
     "elapsed": 1119,
     "status": "ok",
     "timestamp": 1601139323368,
     "user": {
      "displayName": "elevely",
      "photoUrl": "",
      "userId": "13360139414869837982"
     },
     "user_tz": -180
    },
    "id": "-sz0nIsXGw5B",
    "outputId": "4f1bf6f7-2bc9-4dd5-d3d7-fb4b33a55343"
   },
   "outputs": [
    {
     "data": {
      "text/plain": [
       "100"
      ]
     },
     "execution_count": 112,
     "metadata": {
      "tags": []
     },
     "output_type": "execute_result"
    }
   ],
   "source": [
    " d.get(1)"
   ]
  },
  {
   "cell_type": "code",
   "execution_count": 114,
   "metadata": {
    "colab": {
     "base_uri": "https://localhost:8080/",
     "height": 54
    },
    "executionInfo": {
     "elapsed": 451,
     "status": "ok",
     "timestamp": 1601139341991,
     "user": {
      "displayName": "elevely",
      "photoUrl": "",
      "userId": "13360139414869837982"
     },
     "user_tz": -180
    },
    "id": "IB7VemHiGw5D",
    "outputId": "d27d6e15-6762-4f81-ce4c-425449443f36"
   },
   "outputs": [
    {
     "data": {
      "text/plain": [
       "True"
      ]
     },
     "execution_count": 114,
     "metadata": {
      "tags": []
     },
     "output_type": "execute_result"
    }
   ],
   "source": [
    "d.get('a') is None"
   ]
  },
  {
   "cell_type": "markdown",
   "metadata": {
    "id": "nU8c9PouGw5E"
   },
   "source": [
    "Самое часто используемое - получение ключей, получение значений и получение всего вместе:"
   ]
  },
  {
   "cell_type": "code",
   "execution_count": 115,
   "metadata": {
    "colab": {
     "base_uri": "https://localhost:8080/",
     "height": 71
    },
    "executionInfo": {
     "elapsed": 815,
     "status": "ok",
     "timestamp": 1601139359331,
     "user": {
      "displayName": "elevely",
      "photoUrl": "",
      "userId": "13360139414869837982"
     },
     "user_tz": -180
    },
    "id": "_cC8rqn-Gw5E",
    "outputId": "b1561087-511f-4afa-b1bf-366268f435e6"
   },
   "outputs": [
    {
     "name": "stdout",
     "output_type": "stream",
     "text": [
      "dict_keys([1, 2, 3]) | <class 'dict_keys'>\n",
      "[1, 2, 3]\n"
     ]
    }
   ],
   "source": [
    "print(d.keys(), '|', type(d.keys()))\n",
    "\n",
    "\n",
    "print(list(d.keys()))"
   ]
  },
  {
   "cell_type": "code",
   "execution_count": 116,
   "metadata": {
    "colab": {
     "base_uri": "https://localhost:8080/",
     "height": 71
    },
    "executionInfo": {
     "elapsed": 645,
     "status": "ok",
     "timestamp": 1601139359744,
     "user": {
      "displayName": "elevely",
      "photoUrl": "",
      "userId": "13360139414869837982"
     },
     "user_tz": -180
    },
    "id": "pvh7EPaQGw5E",
    "outputId": "5d871b5e-4dc9-4f31-9f3a-ca2ed7c05b0f"
   },
   "outputs": [
    {
     "name": "stdout",
     "output_type": "stream",
     "text": [
      "dict_values([100, 200, 300]) | <class 'dict_values'>\n",
      "[100, 200, 300]\n"
     ]
    }
   ],
   "source": [
    "print(d.values(), '|', type(d.values()))\n",
    "\n",
    "\n",
    "print(list(d.values()))"
   ]
  },
  {
   "cell_type": "code",
   "execution_count": 117,
   "metadata": {
    "colab": {
     "base_uri": "https://localhost:8080/",
     "height": 71
    },
    "executionInfo": {
     "elapsed": 813,
     "status": "ok",
     "timestamp": 1601139362132,
     "user": {
      "displayName": "elevely",
      "photoUrl": "",
      "userId": "13360139414869837982"
     },
     "user_tz": -180
    },
    "id": "sz6vs1_nGw5F",
    "outputId": "6eea9025-6d83-41fa-a336-7a3a372de9c3"
   },
   "outputs": [
    {
     "name": "stdout",
     "output_type": "stream",
     "text": [
      "dict_items([(1, 100), (2, 200), (3, 300)]) | <class 'dict_items'>\n",
      "[(1, 100), (2, 200), (3, 300)]\n"
     ]
    }
   ],
   "source": [
    "print(d.items(), '|', type(d.items()))\n",
    "\n",
    "\n",
    "print(list(d.items()))"
   ]
  },
  {
   "cell_type": "markdown",
   "metadata": {
    "id": "-kYdwvhLGw5F"
   },
   "source": [
    "### modules"
   ]
  },
  {
   "cell_type": "markdown",
   "metadata": {
    "id": "i8oVrMMOGw5G"
   },
   "source": [
    "**Модули** - это \"библиотеки\" Python. То есть это самостоятельные, объединённые технически и логически, именованные части Python кода"
   ]
  },
  {
   "cell_type": "markdown",
   "metadata": {
    "id": "8VsaBB8CGw5G"
   },
   "source": [
    "* О модулях необходимо знать только одно - как их импортировать:"
   ]
  },
  {
   "cell_type": "code",
   "execution_count": 118,
   "metadata": {
    "executionInfo": {
     "elapsed": 547,
     "status": "ok",
     "timestamp": 1601139397007,
     "user": {
      "displayName": "elevely",
      "photoUrl": "",
      "userId": "13360139414869837982"
     },
     "user_tz": -180
    },
    "id": "HyDhkTUYGw5H"
   },
   "outputs": [],
   "source": [
    "import collections"
   ]
  },
  {
   "cell_type": "markdown",
   "metadata": {
    "id": "KCOahn9JGw5H"
   },
   "source": [
    "* Импортировать только какой-то компонент из модуля:"
   ]
  },
  {
   "cell_type": "code",
   "execution_count": 119,
   "metadata": {
    "executionInfo": {
     "elapsed": 429,
     "status": "ok",
     "timestamp": 1601139407872,
     "user": {
      "displayName": "elevely",
      "photoUrl": "",
      "userId": "13360139414869837982"
     },
     "user_tz": -180
    },
    "id": "GFTwj3EEGw5H"
   },
   "outputs": [],
   "source": [
    "from collections import Counter"
   ]
  },
  {
   "cell_type": "markdown",
   "metadata": {
    "id": "VXFVpvqwGw5I"
   },
   "source": [
    "* Импортировать с другим именем (чаще всего используется для локаничности кода):"
   ]
  },
  {
   "cell_type": "code",
   "execution_count": 120,
   "metadata": {
    "executionInfo": {
     "elapsed": 542,
     "status": "ok",
     "timestamp": 1601139422865,
     "user": {
      "displayName": "elevely",
      "photoUrl": "",
      "userId": "13360139414869837982"
     },
     "user_tz": -180
    },
    "id": "pDR1RfkAGw5I"
   },
   "outputs": [],
   "source": [
    "import collections as cl"
   ]
  },
  {
   "cell_type": "code",
   "execution_count": 121,
   "metadata": {
    "executionInfo": {
     "elapsed": 811,
     "status": "ok",
     "timestamp": 1601139428959,
     "user": {
      "displayName": "elevely",
      "photoUrl": "",
      "userId": "13360139414869837982"
     },
     "user_tz": -180
    },
    "id": "NXIY7m_zGw5J"
   },
   "outputs": [],
   "source": [
    "count = cl.Counter()"
   ]
  },
  {
   "cell_type": "markdown",
   "metadata": {
    "id": "YxuJA1qgGw5K"
   },
   "source": [
    "Жизненный пример:"
   ]
  },
  {
   "cell_type": "code",
   "execution_count": null,
   "metadata": {
    "id": "db7fca4LGw5K"
   },
   "outputs": [],
   "source": [
    "import numpy as np"
   ]
  },
  {
   "cell_type": "markdown",
   "metadata": {
    "id": "1q8IsL0_Gw5L"
   },
   "source": [
    "### files"
   ]
  },
  {
   "cell_type": "code",
   "execution_count": 122,
   "metadata": {
    "executionInfo": {
     "elapsed": 1355,
     "status": "ok",
     "timestamp": 1601139471843,
     "user": {
      "displayName": "elevely",
      "photoUrl": "",
      "userId": "13360139414869837982"
     },
     "user_tz": -180
    },
    "id": "8ps9pgh_Gw5L"
   },
   "outputs": [],
   "source": [
    "path = './test.txt'"
   ]
  },
  {
   "cell_type": "code",
   "execution_count": 123,
   "metadata": {
    "colab": {
     "base_uri": "https://localhost:8080/",
     "height": 71
    },
    "executionInfo": {
     "elapsed": 765,
     "status": "ok",
     "timestamp": 1601139506056,
     "user": {
      "displayName": "elevely",
      "photoUrl": "",
      "userId": "13360139414869837982"
     },
     "user_tz": -180
    },
    "id": "ivXBlu9EGw5M",
    "outputId": "d99020a2-2389-44dc-b4f0-6f40eae9a093"
   },
   "outputs": [
    {
     "name": "stdout",
     "output_type": "stream",
     "text": [
      "The worst nightmare for any developer is to \n",
      "\n"
     ]
    }
   ],
   "source": [
    "\n",
    "file = open(path, mode='r')\n",
    "print([line for line in file][0])\n",
    "file.close()"
   ]
  },
  {
   "cell_type": "markdown",
   "metadata": {
    "id": "FR3dNC56Gw5N"
   },
   "source": [
    "| Режим | Обозначение |\n",
    "|-------|-------------|\n",
    "| **'r'**  | Открытие на **чтение** (является значением по умолчанию) |\n",
    "| **'rb'** | Открытие на **чтение**, в предположении, что будут считываться **байты** |\n",
    "| **'w'** | Открытие на **запись**, содержимое файла удаляется. Если файла не существует, создается новый |\n",
    "| **'wb**' | Открытие на **запись байтов**, содержимое файла удаляется. Если файла не существует, создается новый |\n",
    "| **'a'** | Открытие на **дозапись**, информация добавляется **в конец файла** |\n",
    "| **'r+'** | Открыть файл на **чтение И запись**. Если файла нет, **новый НЕ создаётся** |\n",
    "| **'a+'** | Открыть файл на **чтение И запись в конец файла**. Если файла нет, **новый создаётся** |\n",
    "| **'t'** | Открытие файла **как текстового** (по умолчанию) |"
   ]
  },
  {
   "cell_type": "code",
   "execution_count": 124,
   "metadata": {
    "colab": {
     "base_uri": "https://localhost:8080/",
     "height": 319
    },
    "executionInfo": {
     "elapsed": 419,
     "status": "ok",
     "timestamp": 1601139568658,
     "user": {
      "displayName": "elevely",
      "photoUrl": "",
      "userId": "13360139414869837982"
     },
     "user_tz": -180
    },
    "id": "NYRCktzbGw5N",
    "outputId": "f7064265-1d72-4939-c324-8d1a0b3e310d"
   },
   "outputs": [
    {
     "name": "stdout",
     "output_type": "stream",
     "text": [
      "The worst nightmare for any developer is to \n",
      "\n",
      "contact customer support for an internet problem. \n",
      "\n",
      "The customer service agents sometimes (I’m being polite, \n",
      "\n",
      "read ALWAYS) fail to understand that restarting computers\n",
      "\n",
      "does not always work. Well, we’re developers and understand \n",
      "\n",
      "how these things work, so a lot of the time we know how to \n",
      "\n",
      "fix the problem, provided you connect us to a fellow developer.\n",
      "\n",
      "SHIBBOLEET: I’m going to try it the next time I call any\n",
      "\n",
      " customer support service. I wish, someday, it comes true.\n"
     ]
    }
   ],
   "source": [
    "with open(path, mode='r') as test_file:\n",
    "    for line in test_file:\n",
    "        print(line)\n",
    "\n"
   ]
  },
  {
   "cell_type": "markdown",
   "metadata": {
    "id": "Rq1vFhrLGw5O"
   },
   "source": [
    "### classes"
   ]
  },
  {
   "cell_type": "code",
   "execution_count": 136,
   "metadata": {
    "executionInfo": {
     "elapsed": 1058,
     "status": "ok",
     "timestamp": 1601140227622,
     "user": {
      "displayName": "elevely",
      "photoUrl": "",
      "userId": "13360139414869837982"
     },
     "user_tz": -180
    },
    "id": "iqyjT3nEGw5P"
   },
   "outputs": [],
   "source": [
    "class Human:\n",
    "    def __init__(self, name='', age=None, deep_learning_specialist=False):\n",
    "        self.name = name\n",
    "        self.age = age\n",
    "        self.deep_learning_specialist = deep_learning_specialist\n",
    "    \n",
    "    def set_age(self, age):\n",
    "        self.age = age\n",
    "    \n",
    "    def get_age(self):\n",
    "        return self.age\n",
    "\n",
    "    def test(self):\n",
    "        print(\"Aaa\")\n",
    "    \n",
    "    def __str__(self):\n",
    "        return 'Name: {}\\nAge: {} \\\n",
    "                \\nIs deep learning specialist: {}'.format(self.name, self.age, \n",
    "                                                          self.deep_learning_specialist)\n",
    "\n",
    "class DLSchoolStudent(Human):\n",
    "    def __init__(self, name='', age=None, deep_learning_specialist=True):\n",
    "        super().__init__(name, age)\n",
    "        self.total_grade = None\n",
    "        self.deep_learning_specialist = deep_learning_specialist\n",
    "\n",
    "    def test(self):\n",
    "        print(\"BBB\")\n"
   ]
  },
  {
   "cell_type": "code",
   "execution_count": 140,
   "metadata": {
    "colab": {
     "base_uri": "https://localhost:8080/",
     "height": 104
    },
    "executionInfo": {
     "elapsed": 1064,
     "status": "ok",
     "timestamp": 1601140262390,
     "user": {
      "displayName": "elevely",
      "photoUrl": "",
      "userId": "13360139414869837982"
     },
     "user_tz": -180
    },
    "id": "7rcUa2c6Gw5Q",
    "outputId": "b55a9ee4-a764-4faa-c03d-5d5804b62794"
   },
   "outputs": [
    {
     "name": "stdout",
     "output_type": "stream",
     "text": [
      "Name: Person\n",
      "Age: 17                 \n",
      "Is deep learning specialist: False\n",
      "Aaa\n"
     ]
    }
   ],
   "source": [
    "human = Human('Person', 17)\n",
    "print(human)\n",
    "human.test()\n"
   ]
  },
  {
   "cell_type": "code",
   "execution_count": 133,
   "metadata": {
    "colab": {
     "base_uri": "https://localhost:8080/",
     "height": 182
    },
    "executionInfo": {
     "elapsed": 547,
     "status": "error",
     "timestamp": 1601140154355,
     "user": {
      "displayName": "elevely",
      "photoUrl": "",
      "userId": "13360139414869837982"
     },
     "user_tz": -180
    },
    "id": "cZ3MDlAaY8_i",
    "outputId": "a8eb945d-d67f-4304-93a3-25df1ad122f9"
   },
   "outputs": [
    {
     "ename": "NameError",
     "evalue": "ignored",
     "output_type": "error",
     "traceback": [
      "\u001b[0;31m---------------------------------------------------------------------------\u001b[0m",
      "\u001b[0;31mNameError\u001b[0m                                 Traceback (most recent call last)",
      "\u001b[0;32m<ipython-input-133-a1c1d3b1b7e1>\u001b[0m in \u001b[0;36m<module>\u001b[0;34m()\u001b[0m\n\u001b[0;32m----> 1\u001b[0;31m \u001b[0mhuman\u001b[0m\u001b[0;34m\u001b[0m\u001b[0;34m\u001b[0m\u001b[0m\n\u001b[0m",
      "\u001b[0;31mNameError\u001b[0m: name 'human' is not defined"
     ]
    }
   ],
   "source": []
  },
  {
   "cell_type": "code",
   "execution_count": 137,
   "metadata": {
    "colab": {
     "base_uri": "https://localhost:8080/",
     "height": 87
    },
    "executionInfo": {
     "elapsed": 716,
     "status": "ok",
     "timestamp": 1601140234081,
     "user": {
      "displayName": "elevely",
      "photoUrl": "",
      "userId": "13360139414869837982"
     },
     "user_tz": -180
    },
    "id": "ClXD89RBGw5R",
    "outputId": "9cc001c6-88bd-4fe7-b5a5-a30d3b1330ec"
   },
   "outputs": [
    {
     "name": "stdout",
     "output_type": "stream",
     "text": [
      "Name: Good Person\n",
      "Age: 18                 \n",
      "Is deep learning specialist: True\n"
     ]
    }
   ],
   "source": [
    "student = DLSchoolStudent('Good Person', 18)\n",
    "print(student)"
   ]
  },
  {
   "cell_type": "code",
   "execution_count": 138,
   "metadata": {
    "colab": {
     "base_uri": "https://localhost:8080/",
     "height": 54
    },
    "executionInfo": {
     "elapsed": 793,
     "status": "ok",
     "timestamp": 1601140244727,
     "user": {
      "displayName": "elevely",
      "photoUrl": "",
      "userId": "13360139414869837982"
     },
     "user_tz": -180
    },
    "id": "Nn5lvS9UZSPL",
    "outputId": "5641c45c-a8f6-47aa-e664-1aad29f34fa9"
   },
   "outputs": [
    {
     "name": "stdout",
     "output_type": "stream",
     "text": [
      "BBB\n"
     ]
    }
   ],
   "source": [
    "student.test()"
   ]
  },
  {
   "cell_type": "markdown",
   "metadata": {
    "id": "6leMOqzKGw5R"
   },
   "source": [
    "### exceptions"
   ]
  },
  {
   "cell_type": "code",
   "execution_count": null,
   "metadata": {
    "collapsed": true,
    "id": "lqdK9vpIGw5R"
   },
   "outputs": [],
   "source": [
    "dir(__builtin__)"
   ]
  },
  {
   "cell_type": "code",
   "execution_count": null,
   "metadata": {
    "collapsed": true,
    "id": "4fvhuqHWGw5S"
   },
   "outputs": [],
   "source": [
    "raise KeyboardInterrupt()"
   ]
  },
  {
   "cell_type": "code",
   "execution_count": null,
   "metadata": {
    "collapsed": true,
    "id": "e-ixo9KZGw5T"
   },
   "outputs": [],
   "source": [
    "my_dict = {1: 100, 2: 200}\n",
    "print(my_dict['NEW'])"
   ]
  },
  {
   "cell_type": "code",
   "execution_count": null,
   "metadata": {
    "collapsed": true,
    "id": "AHvxS46MGw5U"
   },
   "outputs": [],
   "source": [
    "try:\n",
    "    my_dict = {1: 100, 2: 200}\n",
    "    print(my_dict['NEW'])\n",
    "except KeyError:\n",
    "    print('Caught KeyError!')"
   ]
  },
  {
   "cell_type": "markdown",
   "metadata": {
    "id": "eh9SR61aGw5U"
   },
   "source": [
    "### Полезные библиотеки Python"
   ]
  },
  {
   "cell_type": "markdown",
   "metadata": {
    "id": "n8z_sEhyGw5V"
   },
   "source": [
    "### glob"
   ]
  },
  {
   "cell_type": "code",
   "execution_count": null,
   "metadata": {
    "collapsed": true,
    "id": "5KYnQ6ARGw5V"
   },
   "outputs": [],
   "source": [
    "import glob"
   ]
  },
  {
   "cell_type": "code",
   "execution_count": null,
   "metadata": {
    "collapsed": true,
    "id": "rtqbatDNGw5W"
   },
   "outputs": [],
   "source": [
    "!dir"
   ]
  },
  {
   "cell_type": "code",
   "execution_count": null,
   "metadata": {
    "collapsed": true,
    "id": "-DWVWSFDGw5W"
   },
   "outputs": [],
   "source": [
    "glob.glob('./[0-9].*')"
   ]
  },
  {
   "cell_type": "code",
   "execution_count": null,
   "metadata": {
    "collapsed": true,
    "id": "ymlN5XWwGw5X"
   },
   "outputs": [],
   "source": [
    "glob.glob('*.png')"
   ]
  },
  {
   "cell_type": "code",
   "execution_count": null,
   "metadata": {
    "collapsed": true,
    "id": "B9aZ6xpVGw5Y"
   },
   "outputs": [],
   "source": [
    "glob.glob('?.jpg')"
   ]
  },
  {
   "cell_type": "code",
   "execution_count": null,
   "metadata": {
    "collapsed": true,
    "id": "VnI6S7BSGw5Z"
   },
   "outputs": [],
   "source": [
    "glob.glob('./**/', recursive=True)"
   ]
  },
  {
   "cell_type": "code",
   "execution_count": null,
   "metadata": {
    "collapsed": true,
    "id": "7cowug2JGw5a"
   },
   "outputs": [],
   "source": [
    "glob.glob('**/*.txt', recursive=True)"
   ]
  },
  {
   "cell_type": "markdown",
   "metadata": {
    "id": "n0KYZdNcGw5b"
   },
   "source": [
    "### tqdm"
   ]
  },
  {
   "cell_type": "markdown",
   "metadata": {
    "id": "YM9NS9PeGw5c"
   },
   "source": [
    "* Устанавливаем виджеты:\n",
    "\n",
    "`pip install ipywidgets`  \n",
    "\n",
    "(или `conda install -c conda-forge ipywidgets`)\n",
    "\n",
    "* Разрешаем их использование в Jupyter Notebook:  \n",
    "\n",
    "`jupyter nbextension enable --py --sys-prefix widgetsnbextension`  \n",
    "\n",
    "* Перезагружаем ядро (Restart Kernel)  \n",
    "\n",
    "\n",
    "* Устанавливаем tqdm:  \n",
    "\n",
    "`pip install tqdm`  \n",
    "\n",
    "(или `conda install -c conda-forge tqdm`)  \n",
    "\n",
    "Больше про tqdm: https://pypi.python.org/pypi/tqdm"
   ]
  },
  {
   "cell_type": "code",
   "execution_count": null,
   "metadata": {
    "collapsed": true,
    "id": "Gjf3-0CDGw5c"
   },
   "outputs": [],
   "source": [
    "from tqdm import tqdm\n",
    "from tqdm import tnrange, tqdm_notebook\n",
    "from time import sleep"
   ]
  },
  {
   "cell_type": "code",
   "execution_count": null,
   "metadata": {
    "collapsed": true,
    "id": "a3b80N6rGw5c"
   },
   "outputs": [],
   "source": [
    "cnt = 0\n",
    "for i in tqdm(range(1000)):\n",
    "    sleep(0.01)\n",
    "    cnt += 1"
   ]
  },
  {
   "cell_type": "code",
   "execution_count": null,
   "metadata": {
    "collapsed": true,
    "id": "bHFdvioAGw5d"
   },
   "outputs": [],
   "source": [
    "for i in tnrange(10, desc='1st loop'):\n",
    "    for j in tqdm_notebook(range(100), desc='2nd loop', leave=False):\n",
    "        sleep(0.01)"
   ]
  },
  {
   "cell_type": "markdown",
   "metadata": {
    "id": "FRMkmKXIGw5d"
   },
   "source": [
    "### collections"
   ]
  },
  {
   "cell_type": "markdown",
   "metadata": {
    "id": "gLqohQ5rGw5f"
   },
   "source": [
    "* `defaultdict()` - класс словаря, у которого есть значение по умолчанию - порой очень пригождается:"
   ]
  },
  {
   "cell_type": "code",
   "execution_count": null,
   "metadata": {
    "id": "G39co0rLGw5h"
   },
   "outputs": [],
   "source": [
    "from collections import defaultdict"
   ]
  },
  {
   "cell_type": "code",
   "execution_count": null,
   "metadata": {
    "id": "Z-QskRLbGw5i"
   },
   "outputs": [],
   "source": [
    "d = defaultdict(int)\n",
    "\n",
    "print(d['key'])\n",
    "\n",
    "d['key'] = 5\n",
    "print(d['key'])  # 5"
   ]
  },
  {
   "cell_type": "code",
   "execution_count": null,
   "metadata": {
    "id": "esQdFR58Gw5j"
   },
   "outputs": [],
   "source": [
    "d = defaultdict(lambda: 'empty')\n",
    "print(d['key'])\n",
    "\n",
    "d['key'] = 'full'\n",
    "print(d['key'])"
   ]
  },
  {
   "cell_type": "code",
   "execution_count": null,
   "metadata": {
    "id": "RWMWkplPGw5m"
   },
   "outputs": [],
   "source": [
    "d = defaultdict(list)\n",
    "print(d)\n",
    "\n",
    "d['list1'].append(100)\n",
    "d['list1'].append(200)\n",
    "print(d)\n",
    "print(d['list1'])"
   ]
  },
  {
   "cell_type": "markdown",
   "metadata": {
    "id": "w4XJ967YGw5n"
   },
   "source": [
    "* `Counter()` - класс словаря, предназначенного для счётчиков. По сути, `== defaultdict(int)`:"
   ]
  },
  {
   "cell_type": "code",
   "execution_count": null,
   "metadata": {
    "id": "qQ-NZSr8Gw5o"
   },
   "outputs": [],
   "source": [
    "from collections import Counter"
   ]
  },
  {
   "cell_type": "code",
   "execution_count": null,
   "metadata": {
    "id": "e1DjIXd1Gw5p"
   },
   "outputs": [],
   "source": [
    "counter = Counter()\n",
    "\n",
    "for word in dir(__builtin__):\n",
    "    for letter in word:\n",
    "        counter[letter] += 1  # или .update(value)\n",
    "    \n",
    "print(counter)"
   ]
  },
  {
   "cell_type": "markdown",
   "metadata": {
    "id": "AdU2IypUGw5q"
   },
   "source": [
    "---"
   ]
  },
  {
   "cell_type": "markdown",
   "metadata": {
    "id": "EhuZgDRMGw5q"
   },
   "source": [
    "### Задание 6\n",
    "\n",
    "1. Создайте словарь счётчиков\n",
    "2. Создайте переменную, в которую сохраните все пути к нужным текстовым файлам *(расположены по адресу `'./20_newsgroups/sci.space/'`, папка лежит в гугл-доке)*\n",
    "3. Для каждого текста (текстового файла) посчитайте сколько каждое слово (из этого текста) встретилось в этом тексте (используйте предыдущие пункты)"
   ]
  },
  {
   "cell_type": "code",
   "execution_count": 143,
   "metadata": {
    "executionInfo": {
     "elapsed": 690,
     "status": "ok",
     "timestamp": 1601140497683,
     "user": {
      "displayName": "elevely",
      "photoUrl": "",
      "userId": "13360139414869837982"
     },
     "user_tz": -180
    },
    "id": "R6HLSewSGw5r"
   },
   "outputs": [],
   "source": [
    " a = ('a', 'b')\n",
    " b = ['a', 'b']"
   ]
  },
  {
   "cell_type": "code",
   "execution_count": 146,
   "metadata": {
    "executionInfo": {
     "elapsed": 1257,
     "status": "ok",
     "timestamp": 1601140529494,
     "user": {
      "displayName": "elevely",
      "photoUrl": "",
      "userId": "13360139414869837982"
     },
     "user_tz": -180
    },
    "id": "YRxnY2UPaN7a"
   },
   "outputs": [],
   "source": [
    "b.append(\"c\")"
   ]
  },
  {
   "cell_type": "code",
   "execution_count": 148,
   "metadata": {
    "colab": {
     "base_uri": "https://localhost:8080/",
     "height": 182
    },
    "executionInfo": {
     "elapsed": 855,
     "status": "error",
     "timestamp": 1601140545182,
     "user": {
      "displayName": "elevely",
      "photoUrl": "",
      "userId": "13360139414869837982"
     },
     "user_tz": -180
    },
    "id": "cT6TfqJdaaNg",
    "outputId": "1c9b4351-f5ad-47ba-ac00-283ee1be07a7"
   },
   "outputs": [
    {
     "ename": "AttributeError",
     "evalue": "ignored",
     "output_type": "error",
     "traceback": [
      "\u001b[0;31m---------------------------------------------------------------------------\u001b[0m",
      "\u001b[0;31mAttributeError\u001b[0m                            Traceback (most recent call last)",
      "\u001b[0;32m<ipython-input-148-4c67f1338816>\u001b[0m in \u001b[0;36m<module>\u001b[0;34m()\u001b[0m\n\u001b[0;32m----> 1\u001b[0;31m \u001b[0ma\u001b[0m\u001b[0;34m.\u001b[0m\u001b[0mappend\u001b[0m\u001b[0;34m(\u001b[0m\u001b[0;34m'c'\u001b[0m\u001b[0;34m)\u001b[0m\u001b[0;34m\u001b[0m\u001b[0;34m\u001b[0m\u001b[0m\n\u001b[0m",
      "\u001b[0;31mAttributeError\u001b[0m: 'tuple' object has no attribute 'append'"
     ]
    }
   ],
   "source": [
    "a.append('c')"
   ]
  },
  {
   "cell_type": "markdown",
   "metadata": {
    "id": "HN5aManjGw5r"
   },
   "source": [
    "---"
   ]
  },
  {
   "cell_type": "markdown",
   "metadata": {
    "id": "UjW3DsbRGw5s"
   },
   "source": [
    "То, что Вы реализовали выше, есть ни что иное, как простая реализация **bag-of-words (мешок слов)** для корпуса из 9 документов."
   ]
  },
  {
   "cell_type": "markdown",
   "metadata": {
    "id": "8gk03Q3jjW6M"
   },
   "source": [
    "Мы познакомились языком Python. Дальше нас ждёт знакомство с библиотеками **NumPy, SciPy** и **Matplotlib**, часто используемыми в анализе данных.  "
   ]
  },
  {
   "cell_type": "markdown",
   "metadata": {
    "id": "dZWe7o1yGw5s"
   },
   "source": [
    "## Список материалов для самостоятельного изучения"
   ]
  },
  {
   "cell_type": "markdown",
   "metadata": {
    "id": "scLkWzB7Gw5s"
   },
   "source": [
    "* *Сайт языка Python* - https://www.python.org/"
   ]
  },
  {
   "cell_type": "markdown",
   "metadata": {
    "id": "5sid19J1Gw5s"
   },
   "source": [
    "* *Курс Python с нуля, можно выполнять задания в интерактивном режиме* - http://pythontutor.ru/"
   ]
  },
  {
   "cell_type": "markdown",
   "metadata": {
    "id": "d3VWwzy-Gw5t"
   },
   "source": [
    "* *Новый онлайн-курс по Питону на Coursera от Mail.Ru Group* - https://www.coursera.org/learn/programming-in-python"
   ]
  },
  {
   "cell_type": "markdown",
   "metadata": {
    "id": "hUkTs8N5Gw5t"
   },
   "source": [
    "* *Самоучитель Python* - https://pythonworld.ru/samouchitel-python"
   ]
  },
  {
   "cell_type": "markdown",
   "metadata": {
    "id": "THosV0wvGw5t"
   },
   "source": [
    "* *Статья про коварности Python* - https://habrahabr.ru/company/mailru/blog/337364/"
   ]
  },
  {
   "cell_type": "markdown",
   "metadata": {
    "id": "clIKUWycGw5t"
   },
   "source": [
    "* *Очень полезные трюки в Jupyter Notebook*: https://www.dataquest.io/blog/jupyter-notebook-tips-tricks-shortcuts/"
   ]
  },
  {
   "cell_type": "markdown",
   "metadata": {
    "id": "1nkIBTyojW6O"
   },
   "source": [
    "## Домашнее задание (необязательное)"
   ]
  },
  {
   "cell_type": "markdown",
   "metadata": {
    "id": "IcU_qRc5jW6O"
   },
   "source": [
    "- Всем прорешать этот ноутбук (сделать все  6 заданий)\n",
    "- Для тех, кто только начал знакомиться с Python: 2 ссылка выше - сделать как можно больше заданий \n",
    "- Для тех, кто \"я уже всё знаю (наверное)\": 5 и 6 ссылки выше (познакомиться с jupyter notebook, если не владеете)  \n",
    "- Для тех, кто \"я уже точно всё знаю про Python\": пора идти работать Python-разработчиком"
   ]
  }
 ],
 "metadata": {
  "colab": {
   "collapsed_sections": [
    "P7kqThRsGw1S",
    "Rq1vFhrLGw5O",
    "6leMOqzKGw5R",
    "eh9SR61aGw5U",
    "n8z_sEhyGw5V",
    "n0KYZdNcGw5b",
    "FRMkmKXIGw5d"
   ],
   "name": "[seminar,basic]python_basics.ipynb",
   "provenance": []
  },
  "kernelspec": {
   "display_name": "Python 3",
   "language": "python",
   "name": "python3"
  },
  "language_info": {
   "codemirror_mode": {
    "name": "ipython",
    "version": 3
   },
   "file_extension": ".py",
   "mimetype": "text/x-python",
   "name": "python",
   "nbconvert_exporter": "python",
   "pygments_lexer": "ipython3",
   "version": "3.8.6"
  }
 },
 "nbformat": 4,
 "nbformat_minor": 1
}
